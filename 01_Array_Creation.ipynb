{
 "cells": [
  {
   "cell_type": "markdown",
   "id": "e41f7840",
   "metadata": {},
   "source": [
    "# Numpy\n"
   ]
  },
  {
   "cell_type": "code",
   "execution_count": 16,
   "id": "81bde2f0",
   "metadata": {},
   "outputs": [],
   "source": [
    "import numpy as np"
   ]
  },
  {
   "cell_type": "markdown",
   "id": "c5645c82",
   "metadata": {},
   "source": [
    "## Creating Numpy array from Python list\n"
   ]
  },
  {
   "cell_type": "code",
   "execution_count": 17,
   "id": "9273a3a5",
   "metadata": {},
   "outputs": [
    {
     "name": "stdout",
     "output_type": "stream",
     "text": [
      "[1 2 3 4 5]\n"
     ]
    }
   ],
   "source": [
    "# 1 dimensional array\n",
    "array = np.array([1, 2, 3, 4, 5])\n",
    "print(array)"
   ]
  },
  {
   "cell_type": "code",
   "execution_count": 18,
   "id": "24a6e56e",
   "metadata": {},
   "outputs": [
    {
     "name": "stdout",
     "output_type": "stream",
     "text": [
      "[[1 2 3]\n",
      " [4 5 6]\n",
      " [7 8 9]]\n"
     ]
    }
   ],
   "source": [
    "# fmt:off\n",
    "# 2 dimensional array\n",
    "array2D = np.array(\n",
    "  [\n",
    "    [1, 2, 3],\n",
    "    [4, 5, 6],\n",
    "    [7, 8, 9]\n",
    "  ])\n",
    "print(array2D)"
   ]
  },
  {
   "cell_type": "markdown",
   "id": "f2725538",
   "metadata": {},
   "source": [
    "### Python list vs Numpy array\n",
    "\n",
    "- Numpy array computations are much faster than python lists\n",
    "- List multiplication will repeat elements\n",
    "- Numpy array multiplication will perform element-wise multiplication\n"
   ]
  },
  {
   "cell_type": "code",
   "execution_count": 19,
   "id": "a9400994",
   "metadata": {},
   "outputs": [
    {
     "name": "stdout",
     "output_type": "stream",
     "text": [
      "List Multiplication: [1, 2, 3, 1, 2, 3]\n"
     ]
    }
   ],
   "source": [
    "list = [1, 2, 3]\n",
    "print(\"List Multiplication:\", list * 2)"
   ]
  },
  {
   "cell_type": "code",
   "execution_count": 20,
   "id": "9d5d0373",
   "metadata": {},
   "outputs": [
    {
     "name": "stdout",
     "output_type": "stream",
     "text": [
      "Numpy array Scalar multiplication: [2 4 6]\n",
      "Numpy array vector multiplication: [1 4 9]\n"
     ]
    }
   ],
   "source": [
    "array = np.array([1, 2, 3])\n",
    "print(\"Numpy array Scalar multiplication:\", array * 2)\n",
    "print(\"Numpy array vector multiplication:\", array * [1, 2, 3])"
   ]
  },
  {
   "cell_type": "markdown",
   "id": "7ea705c7",
   "metadata": {},
   "source": [
    "### Array with range of values\n"
   ]
  },
  {
   "cell_type": "code",
   "execution_count": 21,
   "id": "659744e4",
   "metadata": {},
   "outputs": [
    {
     "name": "stdout",
     "output_type": "stream",
     "text": [
      "Array ranging 0 - 9: [0 1 2 3 4 5 6 7 8 9]\n",
      "Array ranging 5 - 9: [5 6 7 8 9]\n",
      "Array ranging 0 - 9 with step of 2: [0 2 4 6 8]\n"
     ]
    }
   ],
   "source": [
    "array_range1 = np.arange(10)  # from 0 to 10 (end-1)\n",
    "array_range2 = np.arange(5, 10)  # from 5 to 9 <start, stop>\n",
    "array_range3 = np.arange(0, 10, 2)  # from 0 to 9 with step of 2 <start, stop, step>\n",
    "\n",
    "print(\"Array ranging 0 - 9:\", array_range1)\n",
    "print(\"Array ranging 5 - 9:\", array_range2)\n",
    "print(\"Array ranging 0 - 9 with step of 2:\", array_range3)"
   ]
  },
  {
   "cell_type": "markdown",
   "id": "e2c6dd5c",
   "metadata": {},
   "source": [
    "### Array with equally spaced value for a given range\n"
   ]
  },
  {
   "cell_type": "code",
   "execution_count": 22,
   "id": "c5aeeb95",
   "metadata": {},
   "outputs": [
    {
     "name": "stdout",
     "output_type": "stream",
     "text": [
      "Equally spaced value array ranging 0 - 10: [ 0.   2.5  5.   7.5 10. ]\n"
     ]
    }
   ],
   "source": [
    "array_spaced = np.linspace(0, 10, 5)\n",
    "print(\"Equally spaced value array ranging 0 - 10:\", array_spaced)"
   ]
  },
  {
   "cell_type": "markdown",
   "id": "0a2db438",
   "metadata": {},
   "source": [
    "## Ways to Creating Matrix\n"
   ]
  },
  {
   "cell_type": "markdown",
   "id": "3a5240be",
   "metadata": {},
   "source": [
    "### Zeros Matrix\n",
    "\n",
    "$$\n",
    "\\text{zeros} =\n",
    "\\begin{bmatrix}\n",
    "0 & 0 & 0 \\\\\n",
    "0 & 0 & 0 \\\\\n",
    "0 & 0 & 0\n",
    "\\end{bmatrix}\n",
    "$$\n"
   ]
  },
  {
   "cell_type": "code",
   "execution_count": 23,
   "id": "ebcc7f72",
   "metadata": {},
   "outputs": [
    {
     "name": "stdout",
     "output_type": "stream",
     "text": [
      "Zero Matrix:\n",
      " [[0. 0. 0.]\n",
      " [0. 0. 0.]\n",
      " [0. 0. 0.]]\n"
     ]
    }
   ],
   "source": [
    "zeros = np.zeros((3, 3))\n",
    "print(\"Zero Matrix:\\n\", zeros)"
   ]
  },
  {
   "cell_type": "markdown",
   "id": "518f7a21",
   "metadata": {},
   "source": [
    "### Ones Matrix\n",
    "\n",
    "$$\n",
    "\\text{ones} =\n",
    "\\begin{bmatrix}\n",
    "1 & 1 & 1 \\\\\n",
    "1 & 1 & 1 \\\\\n",
    "1 & 1 & 1\n",
    "\\end{bmatrix}\n",
    "$$\n"
   ]
  },
  {
   "cell_type": "code",
   "execution_count": 24,
   "id": "8d0bd14d",
   "metadata": {},
   "outputs": [
    {
     "name": "stdout",
     "output_type": "stream",
     "text": [
      "Ones Matrix:\n",
      " [[1. 1. 1.]\n",
      " [1. 1. 1.]\n",
      " [1. 1. 1.]]\n"
     ]
    }
   ],
   "source": [
    "ones = np.ones((3, 3))\n",
    "print(\"Ones Matrix:\\n\", ones)"
   ]
  },
  {
   "cell_type": "markdown",
   "id": "15281524",
   "metadata": {},
   "source": [
    "### Identity Matrix\n",
    "\n",
    "$$\n",
    "\\text{I}_3 =\n",
    "\\begin{bmatrix}\n",
    "1 & 0 & 0 \\\\\n",
    "0 & 1 & 0 \\\\\n",
    "0 & 0 & 1\n",
    "\\end{bmatrix}\n",
    "$$\n"
   ]
  },
  {
   "cell_type": "code",
   "execution_count": 49,
   "id": "1f3ee1ce",
   "metadata": {},
   "outputs": [
    {
     "name": "stdout",
     "output_type": "stream",
     "text": [
      "Identity Matrix:\n",
      " [[1. 0. 0.]\n",
      " [0. 1. 0.]\n",
      " [0. 0. 1.]]\n"
     ]
    }
   ],
   "source": [
    "identity = np.identity(3)\n",
    "print(\"Identity Matrix:\\n\", identity)"
   ]
  },
  {
   "cell_type": "markdown",
   "id": "b4535c72",
   "metadata": {},
   "source": [
    "### Constant Matrix/ Uniform Matrix\n",
    "\n",
    "$$\n",
    "\\text{constants} =\n",
    "\\begin{bmatrix}\n",
    "2 & 2 & 2 \\\\\n",
    "2 & 2 & 2 \\\\\n",
    "2 & 2 & 2\n",
    "\\end{bmatrix}\n",
    "$$\n"
   ]
  },
  {
   "cell_type": "code",
   "execution_count": 26,
   "id": "fdc96061",
   "metadata": {},
   "outputs": [
    {
     "name": "stdout",
     "output_type": "stream",
     "text": [
      "Constant Matrix/ Uniform Matrix:\n",
      " [[2 2 2]\n",
      " [2 2 2]\n",
      " [2 2 2]]\n"
     ]
    }
   ],
   "source": [
    "constants = np.full((3, 3), 2)\n",
    "print(\"Constant Matrix/ Uniform Matrix:\\n\", constants)"
   ]
  },
  {
   "cell_type": "markdown",
   "id": "cd098102",
   "metadata": {},
   "source": [
    "### Random Matrix\n",
    "\n",
    "$$\n",
    "random =\n",
    "\\begin{bmatrix}\n",
    "a_{11} & a_{12} & a_{13} \\\\\n",
    "a_{21} & a_{22} & a_{23} \\\\\n",
    "a_{31} & a_{32} & a_{33}\n",
    "\\end{bmatrix}\n",
    "\\quad \\text{where} \\quad a_{ij} \\in [0,1)\n",
    "$$\n"
   ]
  },
  {
   "cell_type": "code",
   "execution_count": 27,
   "id": "47562896",
   "metadata": {},
   "outputs": [
    {
     "name": "stdout",
     "output_type": "stream",
     "text": [
      "Random Matrix:\n",
      " [[0.67276755 0.84736895 0.55394181]\n",
      " [0.72326304 0.33109153 0.43372646]\n",
      " [0.2756536  0.22806488 0.27767116]]\n"
     ]
    }
   ],
   "source": [
    "random = np.random.random((3, 3))\n",
    "print(\"Random Matrix:\\n\", random)"
   ]
  },
  {
   "cell_type": "markdown",
   "id": "22e2bba8",
   "metadata": {},
   "source": [
    "### Empty Matrix\n"
   ]
  },
  {
   "cell_type": "code",
   "execution_count": 31,
   "id": "fa70656b",
   "metadata": {},
   "outputs": [
    {
     "name": "stdout",
     "output_type": "stream",
     "text": [
      "Empty Matrix:\n",
      " [[4.9e-324 9.9e-324 1.5e-323]\n",
      " [2.0e-323 2.5e-323 3.0e-323]\n",
      " [3.5e-323 4.0e-323 4.4e-323]]\n"
     ]
    }
   ],
   "source": [
    "empty = np.empty((3, 3))\n",
    "print(\"Empty Matrix:\\n\", empty)"
   ]
  },
  {
   "cell_type": "markdown",
   "id": "c31d63ef",
   "metadata": {},
   "source": [
    "## Vector, Matrix, and Tensor\n",
    "\n",
    "$$\n",
    "\\begin{aligned}\n",
    "\\text{Vector:} \\quad \\mathbf{V} &=\n",
    "\\begin{bmatrix}\n",
    "x_1 & x_2 & x_3\n",
    "\\end{bmatrix}\n",
    "\\\\[2ex]\n",
    "\n",
    "\\text{Matrix:} \\quad \\mathbf{M} &=\n",
    "\\begin{bmatrix}\n",
    "a_{11} & a_{12} & a_{13} \\\\\n",
    "a_{21} & a_{22} & a_{23} \\\\\n",
    "a_{31} & a_{32} & a_{33}\n",
    "\\end{bmatrix}\n",
    "\\\\[5ex]\n",
    "\n",
    "\\text{Tensor:} \\quad \\mathcal{T} &=\n",
    "\\left[\n",
    "\\begin{array}{ccc}\n",
    "a_{111} & a_{112} & a_{113} \\\\\n",
    "a_{121} & a_{122} & a_{123} \\\\\n",
    "a_{131} & a_{132} & a_{133} \\\\\n",
    "\\end{array}\n",
    "\\right]\n",
    "\\quad\n",
    "\\left[\n",
    "\\begin{array}{ccc}\n",
    "a_{211} & a_{212} & a_{213} \\\\\n",
    "a_{221} & a_{222} & a_{223} \\\\\n",
    "a_{231} & a_{232} & a_{233} \\\\\n",
    "\\end{array}\n",
    "\\right]\n",
    "\\quad\n",
    "\\left[\n",
    "\\begin{array}{ccc}\n",
    "a_{311} & a_{312} & a_{313} \\\\\n",
    "a_{321} & a_{322} & a_{323} \\\\\n",
    "a_{331} & a_{332} & a_{333} \\\\\n",
    "\\end{array}\n",
    "\\right]\n",
    "\\end{aligned}\n",
    "$$\n"
   ]
  },
  {
   "cell_type": "code",
   "execution_count": 28,
   "id": "cbf35717",
   "metadata": {},
   "outputs": [
    {
     "name": "stdout",
     "output_type": "stream",
     "text": [
      "Vector:\n",
      " [10 20 30]\n",
      "Matrix:\n",
      " [[1 2 3]\n",
      " [4 5 6]\n",
      " [7 8 9]]\n",
      "Tensor:\n",
      " [[[  1   2   3]\n",
      "  [  4   5   6]\n",
      "  [  7   8   9]]\n",
      "\n",
      " [[ 10  20  30]\n",
      "  [ 40  50  60]\n",
      "  [ 70  80  90]]\n",
      "\n",
      " [[100 200 300]\n",
      "  [400 500 600]\n",
      "  [700 800 900]]]\n"
     ]
    }
   ],
   "source": [
    "# fmt: off\n",
    "vector = np.array([10, 20, 30])\n",
    "print(\"Vector:\\n\", vector)\n",
    "\n",
    "matrix = np.array(\n",
    "    [\n",
    "        [1, 2, 3],\n",
    "        [4, 5, 6],\n",
    "        [7, 8, 9],\n",
    "    ]\n",
    ")\n",
    "print(\"Matrix:\\n\", matrix)\n",
    "\n",
    "tensor = np.array(\n",
    "    [\n",
    "        [\n",
    "            [1, 2, 3],\n",
    "            [4, 5, 6],\n",
    "            [7, 8, 9],\n",
    "        ],\n",
    "        [\n",
    "            [10, 20, 30],\n",
    "            [40, 50, 60],\n",
    "            [70, 80, 90],\n",
    "        ],\n",
    "        [\n",
    "            [100, 200, 300],\n",
    "            [400, 500, 600],\n",
    "            [700, 800, 900],\n",
    "        ],\n",
    "    ]\n",
    ")\n",
    "print(\"Tensor:\\n\", tensor)"
   ]
  },
  {
   "cell_type": "markdown",
   "id": "60fe8701",
   "metadata": {},
   "source": [
    "## Numpy Array properties:\n"
   ]
  },
  {
   "cell_type": "code",
   "execution_count": 29,
   "id": "96ced73f",
   "metadata": {},
   "outputs": [
    {
     "name": "stdout",
     "output_type": "stream",
     "text": [
      "Shape: (2, 3)\n",
      "Size: 6\n",
      "Dimension: 2\n",
      "Data Type: int64\n",
      "Item Size: 8 bytes\n"
     ]
    }
   ],
   "source": [
    "array = np.array(\n",
    "    [  # fmt:skip\n",
    "        [1, 2, 3],\n",
    "        [4, 5, 6],\n",
    "    ]\n",
    ")\n",
    "print(\"Shape:\", array.shape)\n",
    "print(\"Size:\", array.size)\n",
    "print(\"Dimension:\", array.ndim)\n",
    "print(\"Data Type:\", array.dtype)\n",
    "print(\"Item Size:\", array.itemsize, \"bytes\")"
   ]
  },
  {
   "cell_type": "markdown",
   "id": "6051274c",
   "metadata": {},
   "source": [
    "### Changing datatype:\n",
    "\n",
    "- Returns new array with new Data Type\n",
    "- Does not affects original array\n"
   ]
  },
  {
   "cell_type": "code",
   "execution_count": 30,
   "id": "54dbbc57",
   "metadata": {},
   "outputs": [
    {
     "name": "stdout",
     "output_type": "stream",
     "text": [
      "Data Type of Age: int64\n",
      "Data Type of Age (int8): uint8\n",
      "Data Type of Age after Changing: int64\n"
     ]
    }
   ],
   "source": [
    "age = np.array([7, 18, 36, 23, 75, 60, 53, 24, 68, 28, 34, 32])\n",
    "print(\"Data Type of Age:\", age.dtype)\n",
    "age_int8 = age.astype(np.uint8)\n",
    "print(\"Data Type of Age (int8):\", age_int8.dtype)\n",
    "print(\"Data Type of Age after Changing:\", age.dtype)"
   ]
  }
 ],
 "metadata": {
  "kernelspec": {
   "display_name": ".venv",
   "language": "python",
   "name": "python3"
  },
  "language_info": {
   "codemirror_mode": {
    "name": "ipython",
    "version": 3
   },
   "file_extension": ".py",
   "mimetype": "text/x-python",
   "name": "python",
   "nbconvert_exporter": "python",
   "pygments_lexer": "ipython3",
   "version": "3.13.3"
  }
 },
 "nbformat": 4,
 "nbformat_minor": 5
}
