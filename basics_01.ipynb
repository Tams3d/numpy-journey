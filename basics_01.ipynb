{
 "cells": [
  {
   "cell_type": "markdown",
   "id": "60bfa8a8",
   "metadata": {},
   "source": [
    "# Numpy\n"
   ]
  },
  {
   "cell_type": "code",
   "execution_count": 1,
   "id": "fbed8f4d",
   "metadata": {},
   "outputs": [],
   "source": [
    "import numpy as np"
   ]
  },
  {
   "cell_type": "markdown",
   "id": "739edc53",
   "metadata": {},
   "source": [
    "#### Creating Numpy array from list\n"
   ]
  },
  {
   "cell_type": "code",
   "execution_count": 2,
   "id": "ef28a5ee",
   "metadata": {},
   "outputs": [
    {
     "name": "stdout",
     "output_type": "stream",
     "text": [
      "[1 2 3 4 5]\n"
     ]
    }
   ],
   "source": [
    "# 1 dimensional array\n",
    "array = np.array([1, 2, 3, 4, 5])\n",
    "print(array)"
   ]
  },
  {
   "cell_type": "code",
   "execution_count": 3,
   "id": "a602a62e",
   "metadata": {},
   "outputs": [
    {
     "name": "stdout",
     "output_type": "stream",
     "text": [
      "[[1 2 3]\n",
      " [4 5 6]\n",
      " [7 8 9]]\n"
     ]
    }
   ],
   "source": [
    "# 2 dimensional array\n",
    "array2D = np.array([[1, 2, 3], [4, 5, 6], [7, 8, 9]])\n",
    "print(array2D)"
   ]
  },
  {
   "cell_type": "markdown",
   "id": "39d4173d",
   "metadata": {},
   "source": [
    "Python list vs Numpy array\n",
    "\n",
    "- List multiplication will repeat elements\n",
    "- Numpy array multiplication will perform element-wise multiplication\n"
   ]
  },
  {
   "cell_type": "code",
   "execution_count": 4,
   "id": "d985034b",
   "metadata": {},
   "outputs": [
    {
     "name": "stdout",
     "output_type": "stream",
     "text": [
      "List Multiplication: [1, 2, 3, 1, 2, 3]\n"
     ]
    }
   ],
   "source": [
    "list = [1, 2, 3]\n",
    "print(\"List Multiplication:\", list * 2)\n"
   ]
  },
  {
   "cell_type": "code",
   "execution_count": 5,
   "id": "13fb0120",
   "metadata": {},
   "outputs": [
    {
     "name": "stdout",
     "output_type": "stream",
     "text": [
      "Numpy array Scalar multiplication: [2 4 6]\n",
      "Numpy array vector multiplication: [1 4 9]\n"
     ]
    }
   ],
   "source": [
    "array = np.array([1, 2, 3])\n",
    "print(\"Numpy array Scalar multiplication:\", array * 2)\n",
    "print(\"Numpy array vector multiplication:\", array * [1, 2, 3])"
   ]
  },
  {
   "cell_type": "markdown",
   "id": "4111eb77",
   "metadata": {},
   "source": [
    "#### Array with range of values\n"
   ]
  },
  {
   "cell_type": "code",
   "execution_count": 6,
   "id": "61419740",
   "metadata": {},
   "outputs": [
    {
     "name": "stdout",
     "output_type": "stream",
     "text": [
      "Array from 0 - 9: [0 1 2 3 4 5 6 7 8 9]\n",
      "Array from 5 - 9: [5 6 7 8 9]\n",
      "Array from 0 - 9 with step of 2: [0 2 4 6 8]\n"
     ]
    }
   ],
   "source": [
    "array_range1 = np.arange(10)  # from 0 to 10 (end-1)\n",
    "array_range2 = np.arange(5, 10)  # from 5 to 9 <start, stop>\n",
    "array_range3 = np.arange(0, 10, 2)  # from 0 to 9 with step of 2 <start, stop, step>\n",
    "\n",
    "print(\"Array from 0 - 9:\", array_range1)\n",
    "print(\"Array from 5 - 9:\", array_range2)\n",
    "print(\"Array from 0 - 9 with step of 2:\", array_range3)"
   ]
  },
  {
   "cell_type": "markdown",
   "id": "71d66b9d",
   "metadata": {},
   "source": [
    "#### Ways to Creating Matrix:\n"
   ]
  },
  {
   "cell_type": "markdown",
   "id": "a2684ba6",
   "metadata": {},
   "source": [
    "##### Zeros Matrix:\n",
    "\n",
    "$$\n",
    "\\text{zeros} =\n",
    "\\begin{bmatrix}\n",
    "0 & 0 & 0 \\\\\n",
    "0 & 0 & 0 \\\\\n",
    "0 & 0 & 0\n",
    "\\end{bmatrix}\n",
    "$$\n"
   ]
  },
  {
   "cell_type": "code",
   "execution_count": 7,
   "id": "2e9cfffc",
   "metadata": {},
   "outputs": [
    {
     "name": "stdout",
     "output_type": "stream",
     "text": [
      "Zero Matrix:\n",
      " [[0. 0. 0.]\n",
      " [0. 0. 0.]\n",
      " [0. 0. 0.]]\n"
     ]
    }
   ],
   "source": [
    "zeros = np.zeros((3, 3))\n",
    "print(\"Zero Matrix:\\n\", zeros)"
   ]
  },
  {
   "cell_type": "markdown",
   "id": "bfd05a16",
   "metadata": {},
   "source": [
    "##### Ones Matrix:\n",
    "\n",
    "$$\n",
    "\\text{ones} =\n",
    "\\begin{bmatrix}\n",
    "1 & 1 & 1 \\\\\n",
    "1 & 1 & 1 \\\\\n",
    "1 & 1 & 1\n",
    "\\end{bmatrix}\n",
    "$$\n"
   ]
  },
  {
   "cell_type": "code",
   "execution_count": 8,
   "id": "0d821b63",
   "metadata": {},
   "outputs": [
    {
     "name": "stdout",
     "output_type": "stream",
     "text": [
      "Ones Matrix:\n",
      " [[1. 1. 1.]\n",
      " [1. 1. 1.]\n",
      " [1. 1. 1.]]\n"
     ]
    }
   ],
   "source": [
    "ones = np.ones((3, 3))\n",
    "print(\"Ones Matrix:\\n\", ones)\n"
   ]
  },
  {
   "cell_type": "markdown",
   "id": "a4a7b9b9",
   "metadata": {},
   "source": [
    "##### Constant Matrix/ Uniform Matrix:\n",
    "\n",
    "$$\n",
    "\\text{constants} =\n",
    "\\begin{bmatrix}\n",
    "2 & 2 & 2 \\\\\n",
    "2 & 2 & 2 \\\\\n",
    "2 & 2 & 2\n",
    "\\end{bmatrix}\n",
    "$$\n"
   ]
  },
  {
   "cell_type": "code",
   "execution_count": 9,
   "id": "8330269e",
   "metadata": {},
   "outputs": [
    {
     "name": "stdout",
     "output_type": "stream",
     "text": [
      "Constant Matrix/ Uniform Matrix:\n",
      " [[2 2 2]\n",
      " [2 2 2]\n",
      " [2 2 2]]\n"
     ]
    }
   ],
   "source": [
    "constants = np.full((3, 3), 2)\n",
    "print(\"Constant Matrix/ Uniform Matrix:\\n\", constants)"
   ]
  },
  {
   "cell_type": "markdown",
   "id": "66c171d6",
   "metadata": {},
   "source": [
    "#### Random Matrix:\n",
    "\n",
    "$$\n",
    "random =\n",
    "\\begin{bmatrix}\n",
    "a_{11} & a_{12} & a_{13} \\\\\n",
    "a_{21} & a_{22} & a_{23} \\\\\n",
    "a_{31} & a_{32} & a_{33}\n",
    "\\end{bmatrix}\n",
    "\\quad \\text{where} \\quad a_{ij} \\in [0,1)\n",
    "$$\n"
   ]
  },
  {
   "cell_type": "code",
   "execution_count": 10,
   "id": "137ef73f",
   "metadata": {},
   "outputs": [
    {
     "name": "stdout",
     "output_type": "stream",
     "text": [
      "Random Matrix:\n",
      " [[0.95062042 0.34736388 0.20072586]\n",
      " [0.57620558 0.61628174 0.52648097]\n",
      " [0.39124637 0.76352127 0.29630054]]\n"
     ]
    }
   ],
   "source": [
    "random = np.random.random((3, 3))\n",
    "print(\"Random Matrix:\\n\", random)"
   ]
  },
  {
   "cell_type": "markdown",
   "id": "d265f37c",
   "metadata": {},
   "source": [
    "### Vector, Matrix, and Tensor\n",
    "\n",
    "$$\n",
    "\\begin{aligned}\n",
    "\\text{Vector:} \\quad \\mathbf{v} &=\n",
    "\\begin{bmatrix}\n",
    "x_1 & x_2 & x_3\n",
    "\\end{bmatrix}\n",
    "\\\\[2ex]\n",
    "\n",
    "\\text{Matrix:} \\quad \\mathbf{M} &=\n",
    "\\begin{bmatrix}\n",
    "a_{11} & a_{12} & a_{13} \\\\\n",
    "a_{21} & a_{22} & a_{23} \\\\\n",
    "a_{31} & a_{32} & a_{33}\n",
    "\\end{bmatrix}\n",
    "\\\\[5ex]\n",
    "\n",
    "\\text{Tensor:} \\quad \\mathcal{T} &=\n",
    "\\left[\n",
    "\\begin{array}{ccc}\n",
    "a_{111} & a_{112} & a_{113} \\\\\n",
    "a_{121} & a_{122} & a_{123} \\\\\n",
    "a_{131} & a_{132} & a_{133} \\\\\n",
    "\\end{array}\n",
    "\\right]\n",
    "\\quad\n",
    "\\left[\n",
    "\\begin{array}{ccc}\n",
    "a_{211} & a_{212} & a_{213} \\\\\n",
    "a_{221} & a_{222} & a_{223} \\\\\n",
    "a_{231} & a_{232} & a_{233} \\\\\n",
    "\\end{array}\n",
    "\\right]\n",
    "\\quad\n",
    "\\left[\n",
    "\\begin{array}{ccc}\n",
    "a_{311} & a_{312} & a_{313} \\\\\n",
    "a_{321} & a_{322} & a_{323} \\\\\n",
    "a_{331} & a_{332} & a_{333} \\\\\n",
    "\\end{array}\n",
    "\\right]\n",
    "\\end{aligned}\n",
    "$$\n"
   ]
  },
  {
   "cell_type": "code",
   "execution_count": 11,
   "id": "bbb681ba",
   "metadata": {},
   "outputs": [
    {
     "name": "stdout",
     "output_type": "stream",
     "text": [
      "Vector:\n",
      " [10 20 30]\n",
      "Matrix:\n",
      " [[1 2 3]\n",
      " [4 5 6]\n",
      " [7 8 9]]\n",
      "Tensor:\n",
      " [[[  1   2   3]\n",
      "  [  4   5   6]\n",
      "  [  7   8   9]]\n",
      "\n",
      " [[ 10  20  30]\n",
      "  [ 40  50  60]\n",
      "  [ 70  80  90]]\n",
      "\n",
      " [[100 200 300]\n",
      "  [400 500 600]\n",
      "  [700 800 900]]]\n"
     ]
    }
   ],
   "source": [
    "# fmt: off\n",
    "vector = np.array([10, 20, 30])\n",
    "print(\"Vector:\\n\", vector)\n",
    "\n",
    "matrix = np.array(\n",
    "    [\n",
    "        [1, 2, 3],\n",
    "        [4, 5, 6],\n",
    "        [7, 8, 9],\n",
    "    ]\n",
    ")\n",
    "print(\"Matrix:\\n\", matrix)\n",
    "\n",
    "tensor = np.array(\n",
    "    [\n",
    "        [\n",
    "            [1, 2, 3],\n",
    "            [4, 5, 6],\n",
    "            [7, 8, 9],\n",
    "        ],\n",
    "        [\n",
    "            [10, 20, 30],\n",
    "            [40, 50, 60],\n",
    "            [70, 80, 90],\n",
    "        ],\n",
    "        [\n",
    "            [100, 200, 300],\n",
    "            [400, 500, 600],\n",
    "            [700, 800, 900],\n",
    "        ],\n",
    "    ]\n",
    ")\n",
    "print(\"Tensor:\\n\", tensor)"
   ]
  },
  {
   "cell_type": "markdown",
   "id": "f4213da9",
   "metadata": {},
   "source": [
    "### Numpy Array properties\n"
   ]
  },
  {
   "cell_type": "code",
   "execution_count": 12,
   "id": "22765bc6",
   "metadata": {},
   "outputs": [
    {
     "name": "stdout",
     "output_type": "stream",
     "text": [
      "Shape: (2, 3)\n",
      "Size: 6\n",
      "Dimension: 2\n",
      "Data Type: int64\n"
     ]
    }
   ],
   "source": [
    "array = np.array(\n",
    "    [  # fmt:skip\n",
    "        [1, 2, 3],\n",
    "        [4, 5, 6],\n",
    "    ]\n",
    ")\n",
    "print(\"Shape:\", array.shape)\n",
    "print(\"Size:\", array.size)\n",
    "print(\"Dimension:\", array.ndim)\n",
    "print(\"Data Type:\", array.dtype)"
   ]
  },
  {
   "cell_type": "markdown",
   "id": "89399ef5",
   "metadata": {},
   "source": [
    "### Array Reshaping:\n",
    "\n",
    "$$\n",
    "\\begin{array}{c}\n",
    "\\begin{bmatrix}\n",
    "1 & 2 & 3 & 4 & 5 & 6 & 7 & 8 & 9 & 10 & 11 & 12\n",
    "\\end{bmatrix} \\\\\n",
    "(1, 12) \\\\[1em]\n",
    "\\text{Original}\n",
    "\\end{array}\n",
    "\\quad\n",
    "\\xrightarrow{\\text{reshape} \\\\[1ex]}\n",
    "\\quad\n",
    "\\begin{array}{c}\n",
    "\\begin{bmatrix}\n",
    "1 & 2 & 3 & 4 \\\\\n",
    "5 & 6 & 7 & 8 \\\\\n",
    "9 & 10 & 11 & 12\n",
    "\\end{bmatrix} \\\\\n",
    "(3, 4) \\\\[1em]\n",
    "\\text{Reshaped Array}\n",
    "\\end{array}\n",
    "$$\n",
    "\n",
    "### Reshaped Matrix Flattening:\n",
    "\n",
    "$$\n",
    "\\begin{array}{c}\n",
    "\\begin{bmatrix}\n",
    "1 & 2 & 3 & 4 \\\\\n",
    "5 & 6 & 7 & 8 \\\\\n",
    "9 & 10 & 11 & 12\n",
    "\\end{bmatrix} \\\\\n",
    "(3, 4) \\\\[1em]\n",
    "\\text{Reshaped Array}\n",
    "\\end{array}\n",
    "\\quad\n",
    "\\xrightarrow{\\text{flatten}}\n",
    "\\quad\n",
    "\\begin{array}{c}\n",
    "\\begin{bmatrix}\n",
    "1 & 2 & 3 & 4 & 5 & 6 & 7 & 8 & 9 & 10 & 11 & 12\n",
    "\\end{bmatrix} \\\\\n",
    "(1, 12) \\\\[1em]\n",
    "\\text{Flattened Array}\n",
    "\\end{array}\n",
    "$$\n"
   ]
  },
  {
   "cell_type": "code",
   "execution_count": 13,
   "id": "f8924fa3",
   "metadata": {},
   "outputs": [
    {
     "name": "stdout",
     "output_type": "stream",
     "text": [
      "Original Array:\n",
      " [ 1  2  3  4  5  6  7  8  9 10 11 12]\n",
      "\n",
      "Reshaped Array:\n",
      " [[ 1  2  3  4]\n",
      " [ 5  6  7  8]\n",
      " [ 9 10 11 12]]\n",
      "\n",
      "Flattened Array:\n",
      " [ 1  2  3  4  5  6  7  8  9 10 11 12]\n"
     ]
    }
   ],
   "source": [
    "array = np.arange(1, 13)\n",
    "print(\"Original Array:\\n\", array)\n",
    "\n",
    "reshaped = array.reshape((3, 4))\n",
    "print(\"\\nReshaped Array:\\n\", reshaped)\n",
    "\n",
    "flattened = reshaped.flatten()\n",
    "print(\"\\nFlattened Array:\\n\", flattened)"
   ]
  },
  {
   "cell_type": "markdown",
   "id": "c48cfcae",
   "metadata": {},
   "source": [
    "### Reshaped Array and Ravelled View modifications:\n",
    "\n",
    "$$\n",
    "\\begin{array}{c}\n",
    "\\begin{bmatrix}\n",
    "\\color{yellow}{100} & 2 & 3 & 4 \\\\\n",
    "5 & 6 & 7 & 8 \\\\\n",
    "9 & 10 & 11 & 12\n",
    "\\end{bmatrix} \\\\\n",
    "(3, 4) \\\\[1em]\n",
    "\\text{Reshaped Array}\n",
    "\\end{array}\n",
    "\\quad\n",
    "\\xleftrightarrow{\\text{reflects}}\n",
    "\\quad\n",
    "\\begin{array}{c}\n",
    "\\begin{bmatrix}\n",
    "\\color{yellow}{100} & 2 & 3 & 4 & 5 & 6 & 7 & 8 & 9 & 10 & 11 & 12\n",
    "\\end{bmatrix} \\\\\n",
    "(1,12) \\\\[1em]\n",
    "\\text{Ravelled View}\n",
    "\\end{array}\n",
    "$$\n"
   ]
  },
  {
   "cell_type": "code",
   "execution_count": 14,
   "id": "4109e092",
   "metadata": {},
   "outputs": [
    {
     "name": "stdout",
     "output_type": "stream",
     "text": [
      "Revelled Array:\n",
      " [ 1  2  3  4  5  6  7  8  9 10 11 12]\n",
      "\n",
      "Modified Revelled:\n",
      " [100   2   3   4   5   6   7   8   9  10  11  12]\n",
      "Updated Reshaped:\n",
      " [[100   2   3   4]\n",
      " [  5   6   7   8]\n",
      " [  9  10  11  12]]\n",
      "\n",
      "Modified Reshaped:\n",
      " [[1000    2    3    4]\n",
      " [   5    6    7    8]\n",
      " [   9   10   11   12]]\n",
      "Updated Ravelled:\n",
      " [1000    2    3    4    5    6    7    8    9   10   11   12]\n"
     ]
    }
   ],
   "source": [
    "ravelled = reshaped.ravel()\n",
    "print(\"Revelled Array:\\n\", ravelled)\n",
    "\n",
    "ravelled[0] = 100\n",
    "print(\"\\nModified Revelled:\\n\", ravelled)\n",
    "print(\"Updated Reshaped:\\n\", reshaped)\n",
    "\n",
    "reshaped[0, 0] = 1000\n",
    "print(\"\\nModified Reshaped:\\n\", reshaped)\n",
    "print(\"Updated Ravelled:\\n\", ravelled)\n"
   ]
  },
  {
   "cell_type": "markdown",
   "id": "b4ece149",
   "metadata": {},
   "source": [
    "#### Matrix Transpose\n"
   ]
  },
  {
   "cell_type": "markdown",
   "id": "fda0ab38",
   "metadata": {},
   "source": [
    "$$\n",
    "\\text{A} =\n",
    "\\begin{array}{c}\n",
    "\\begin{bmatrix}\n",
    "1 & 2 & 3 \\\\\n",
    "4 & 5 & 6 \\\\\n",
    "7 & 8 & 9\n",
    "\\end{bmatrix} \\\\[1.5em]\n",
    "\\text{Original}\n",
    "\\end{array}\n",
    "\\quad\n",
    "\\text{A}^T =\n",
    "\\begin{array}{c}\n",
    "\\begin{bmatrix}\n",
    "1 & 4 & 7 \\\\\n",
    "2 & 5 & 8 \\\\\n",
    "3 & 6 & 9\n",
    "\\end{bmatrix} \\\\[1.5em]\n",
    "\\text{Transposed}\n",
    "\\end{array}\n",
    "$$\n"
   ]
  },
  {
   "cell_type": "code",
   "execution_count": 15,
   "id": "a8b2ec0b",
   "metadata": {},
   "outputs": [
    {
     "name": "stdout",
     "output_type": "stream",
     "text": [
      "Original:\n",
      " [[1 2 3]\n",
      " [4 5 6]\n",
      " [7 8 9]]\n",
      "Transposed:\n",
      " [[1 4 7]\n",
      " [2 5 8]\n",
      " [3 6 9]]\n"
     ]
    }
   ],
   "source": [
    "matrix = np.arange(1, 10).reshape((3, 3))\n",
    "transposed = matrix.T\n",
    "print(\"Original:\\n\", matrix)\n",
    "print(\"Transposed:\\n\", transposed)"
   ]
  }
 ],
 "metadata": {
  "kernelspec": {
   "display_name": ".venv",
   "language": "python",
   "name": "python3"
  },
  "language_info": {
   "codemirror_mode": {
    "name": "ipython",
    "version": 3
   },
   "file_extension": ".py",
   "mimetype": "text/x-python",
   "name": "python",
   "nbconvert_exporter": "python",
   "pygments_lexer": "ipython3",
   "version": "3.13.3"
  }
 },
 "nbformat": 4,
 "nbformat_minor": 5
}
