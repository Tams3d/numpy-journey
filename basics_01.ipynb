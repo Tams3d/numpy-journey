{
 "cells": [
  {
   "cell_type": "markdown",
   "id": "60bfa8a8",
   "metadata": {},
   "source": [
    "# Numpy\n"
   ]
  },
  {
   "cell_type": "code",
   "execution_count": 1,
   "id": "fbed8f4d",
   "metadata": {},
   "outputs": [],
   "source": [
    "import numpy as np"
   ]
  },
  {
   "cell_type": "markdown",
   "id": "739edc53",
   "metadata": {},
   "source": [
    "#### Creating Numpy array from list\n"
   ]
  },
  {
   "cell_type": "code",
   "execution_count": 2,
   "id": "ef28a5ee",
   "metadata": {},
   "outputs": [
    {
     "name": "stdout",
     "output_type": "stream",
     "text": [
      "[1 2 3 4 5]\n"
     ]
    }
   ],
   "source": [
    "# 1 dimensional array\n",
    "array = np.array([1, 2, 3, 4, 5])\n",
    "print(array)"
   ]
  },
  {
   "cell_type": "code",
   "execution_count": 3,
   "id": "a602a62e",
   "metadata": {},
   "outputs": [
    {
     "name": "stdout",
     "output_type": "stream",
     "text": [
      "[[1 2 3]\n",
      " [4 5 6]\n",
      " [7 8 9]]\n"
     ]
    }
   ],
   "source": [
    "# 2 dimensional array\n",
    "# fmt:off\n",
    "array2D = np.array(\n",
    "  [\n",
    "    [1, 2, 3],\n",
    "    [4, 5, 6],\n",
    "    [7, 8, 9]\n",
    "  ])\n",
    "print(array2D)"
   ]
  },
  {
   "cell_type": "markdown",
   "id": "39d4173d",
   "metadata": {},
   "source": [
    "#### Python list vs Numpy array\n",
    "\n",
    "- List multiplication will repeat elements\n",
    "- Numpy array multiplication will perform element-wise multiplication\n"
   ]
  },
  {
   "cell_type": "code",
   "execution_count": 4,
   "id": "d985034b",
   "metadata": {},
   "outputs": [
    {
     "name": "stdout",
     "output_type": "stream",
     "text": [
      "List Multiplication: [1, 2, 3, 1, 2, 3]\n"
     ]
    }
   ],
   "source": [
    "list = [1, 2, 3]\n",
    "print(\"List Multiplication:\", list * 2)"
   ]
  },
  {
   "cell_type": "code",
   "execution_count": 5,
   "id": "13fb0120",
   "metadata": {},
   "outputs": [
    {
     "name": "stdout",
     "output_type": "stream",
     "text": [
      "Numpy array Scalar multiplication: [2 4 6]\n",
      "Numpy array vector multiplication: [1 4 9]\n"
     ]
    }
   ],
   "source": [
    "array = np.array([1, 2, 3])\n",
    "print(\"Numpy array Scalar multiplication:\", array * 2)\n",
    "print(\"Numpy array vector multiplication:\", array * [1, 2, 3])"
   ]
  },
  {
   "cell_type": "markdown",
   "id": "4111eb77",
   "metadata": {},
   "source": [
    "#### Array with range of values\n"
   ]
  },
  {
   "cell_type": "code",
   "execution_count": 6,
   "id": "61419740",
   "metadata": {},
   "outputs": [
    {
     "name": "stdout",
     "output_type": "stream",
     "text": [
      "Array ranging 0 - 9: [0 1 2 3 4 5 6 7 8 9]\n",
      "Array ranging 5 - 9: [5 6 7 8 9]\n",
      "Array ranging 0 - 9 with step of 2: [0 2 4 6 8]\n"
     ]
    }
   ],
   "source": [
    "array_range1 = np.arange(10)  # from 0 to 10 (end-1)\n",
    "array_range2 = np.arange(5, 10)  # from 5 to 9 <start, stop>\n",
    "array_range3 = np.arange(0, 10, 2)  # from 0 to 9 with step of 2 <start, stop, step>\n",
    "\n",
    "print(\"Array ranging 0 - 9:\", array_range1)\n",
    "print(\"Array ranging 5 - 9:\", array_range2)\n",
    "print(\"Array ranging 0 - 9 with step of 2:\", array_range3)"
   ]
  },
  {
   "cell_type": "markdown",
   "id": "7a0359de",
   "metadata": {},
   "source": [
    "### Array with equally spaced value for a given range\n"
   ]
  },
  {
   "cell_type": "code",
   "execution_count": 7,
   "id": "ae989540",
   "metadata": {},
   "outputs": [
    {
     "name": "stdout",
     "output_type": "stream",
     "text": [
      "Equally spaced value array ranging 0 - 10: [ 0.   2.5  5.   7.5 10. ]\n"
     ]
    }
   ],
   "source": [
    "array_spaced = np.linspace(0, 10, 5)\n",
    "print(\"Equally spaced value array ranging 0 - 10:\", array_spaced)"
   ]
  },
  {
   "cell_type": "markdown",
   "id": "71d66b9d",
   "metadata": {},
   "source": [
    "#### Ways to Creating Matrix:\n"
   ]
  },
  {
   "cell_type": "markdown",
   "id": "a2684ba6",
   "metadata": {},
   "source": [
    "##### Zeros Matrix:\n",
    "\n",
    "$$\n",
    "\\text{zeros} =\n",
    "\\begin{bmatrix}\n",
    "0 & 0 & 0 \\\\\n",
    "0 & 0 & 0 \\\\\n",
    "0 & 0 & 0\n",
    "\\end{bmatrix}\n",
    "$$\n"
   ]
  },
  {
   "cell_type": "code",
   "execution_count": 8,
   "id": "2e9cfffc",
   "metadata": {},
   "outputs": [
    {
     "name": "stdout",
     "output_type": "stream",
     "text": [
      "Zero Matrix:\n",
      " [[0. 0. 0.]\n",
      " [0. 0. 0.]\n",
      " [0. 0. 0.]]\n"
     ]
    }
   ],
   "source": [
    "zeros = np.zeros((3, 3))\n",
    "print(\"Zero Matrix:\\n\", zeros)"
   ]
  },
  {
   "cell_type": "markdown",
   "id": "bfd05a16",
   "metadata": {},
   "source": [
    "##### Ones Matrix:\n",
    "\n",
    "$$\n",
    "\\text{ones} =\n",
    "\\begin{bmatrix}\n",
    "1 & 1 & 1 \\\\\n",
    "1 & 1 & 1 \\\\\n",
    "1 & 1 & 1\n",
    "\\end{bmatrix}\n",
    "$$\n"
   ]
  },
  {
   "cell_type": "code",
   "execution_count": 9,
   "id": "0d821b63",
   "metadata": {},
   "outputs": [
    {
     "name": "stdout",
     "output_type": "stream",
     "text": [
      "Ones Matrix:\n",
      " [[1. 1. 1.]\n",
      " [1. 1. 1.]\n",
      " [1. 1. 1.]]\n"
     ]
    }
   ],
   "source": [
    "ones = np.ones((3, 3))\n",
    "print(\"Ones Matrix:\\n\", ones)"
   ]
  },
  {
   "cell_type": "markdown",
   "id": "e007cea6",
   "metadata": {},
   "source": [
    "##### Identity Matrix:\n",
    "\n",
    "$$\n",
    "\\text{I}_3 =\n",
    "\\begin{bmatrix}\n",
    "1 & 0 & 0 \\\\\n",
    "0 & 1 & 0 \\\\\n",
    "0 & 0 & 1\n",
    "\\end{bmatrix}\n",
    "$$\n"
   ]
  },
  {
   "cell_type": "code",
   "execution_count": 10,
   "id": "7d1952ec",
   "metadata": {},
   "outputs": [
    {
     "name": "stdout",
     "output_type": "stream",
     "text": [
      "Identity Matrix:\n",
      " [[1. 0. 0.]\n",
      " [0. 1. 0.]\n",
      " [0. 0. 1.]]\n"
     ]
    }
   ],
   "source": [
    "identity = np.identity(3)\n",
    "print(\"Identity Matrix:\\n\", identity)"
   ]
  },
  {
   "cell_type": "markdown",
   "id": "a4a7b9b9",
   "metadata": {},
   "source": [
    "##### Constant Matrix/ Uniform Matrix:\n",
    "\n",
    "$$\n",
    "\\text{constants} =\n",
    "\\begin{bmatrix}\n",
    "2 & 2 & 2 \\\\\n",
    "2 & 2 & 2 \\\\\n",
    "2 & 2 & 2\n",
    "\\end{bmatrix}\n",
    "$$\n"
   ]
  },
  {
   "cell_type": "code",
   "execution_count": 11,
   "id": "8330269e",
   "metadata": {},
   "outputs": [
    {
     "name": "stdout",
     "output_type": "stream",
     "text": [
      "Constant Matrix/ Uniform Matrix:\n",
      " [[2 2 2]\n",
      " [2 2 2]\n",
      " [2 2 2]]\n"
     ]
    }
   ],
   "source": [
    "constants = np.full((3, 3), 2)\n",
    "print(\"Constant Matrix/ Uniform Matrix:\\n\", constants)"
   ]
  },
  {
   "cell_type": "markdown",
   "id": "66c171d6",
   "metadata": {},
   "source": [
    "#### Random Matrix:\n",
    "\n",
    "$$\n",
    "random =\n",
    "\\begin{bmatrix}\n",
    "a_{11} & a_{12} & a_{13} \\\\\n",
    "a_{21} & a_{22} & a_{23} \\\\\n",
    "a_{31} & a_{32} & a_{33}\n",
    "\\end{bmatrix}\n",
    "\\quad \\text{where} \\quad a_{ij} \\in [0,1)\n",
    "$$\n"
   ]
  },
  {
   "cell_type": "code",
   "execution_count": 12,
   "id": "137ef73f",
   "metadata": {},
   "outputs": [
    {
     "name": "stdout",
     "output_type": "stream",
     "text": [
      "Random Matrix:\n",
      " [[0.75774292 0.04005575 0.72916748]\n",
      " [0.31722294 0.85218879 0.11832561]\n",
      " [0.27305719 0.7340444  0.87217776]]\n"
     ]
    }
   ],
   "source": [
    "random = np.random.random((3, 3))\n",
    "print(\"Random Matrix:\\n\", random)"
   ]
  },
  {
   "cell_type": "markdown",
   "id": "d265f37c",
   "metadata": {},
   "source": [
    "### Vector, Matrix, and Tensor\n",
    "\n",
    "$$\n",
    "\\begin{aligned}\n",
    "\\text{Vector:} \\quad \\mathbf{V} &=\n",
    "\\begin{bmatrix}\n",
    "x_1 & x_2 & x_3\n",
    "\\end{bmatrix}\n",
    "\\\\[2ex]\n",
    "\n",
    "\\text{Matrix:} \\quad \\mathbf{M} &=\n",
    "\\begin{bmatrix}\n",
    "a_{11} & a_{12} & a_{13} \\\\\n",
    "a_{21} & a_{22} & a_{23} \\\\\n",
    "a_{31} & a_{32} & a_{33}\n",
    "\\end{bmatrix}\n",
    "\\\\[5ex]\n",
    "\n",
    "\\text{Tensor:} \\quad \\mathcal{T} &=\n",
    "\\left[\n",
    "\\begin{array}{ccc}\n",
    "a_{111} & a_{112} & a_{113} \\\\\n",
    "a_{121} & a_{122} & a_{123} \\\\\n",
    "a_{131} & a_{132} & a_{133} \\\\\n",
    "\\end{array}\n",
    "\\right]\n",
    "\\quad\n",
    "\\left[\n",
    "\\begin{array}{ccc}\n",
    "a_{211} & a_{212} & a_{213} \\\\\n",
    "a_{221} & a_{222} & a_{223} \\\\\n",
    "a_{231} & a_{232} & a_{233} \\\\\n",
    "\\end{array}\n",
    "\\right]\n",
    "\\quad\n",
    "\\left[\n",
    "\\begin{array}{ccc}\n",
    "a_{311} & a_{312} & a_{313} \\\\\n",
    "a_{321} & a_{322} & a_{323} \\\\\n",
    "a_{331} & a_{332} & a_{333} \\\\\n",
    "\\end{array}\n",
    "\\right]\n",
    "\\end{aligned}\n",
    "$$\n"
   ]
  },
  {
   "cell_type": "code",
   "execution_count": 13,
   "id": "bbb681ba",
   "metadata": {},
   "outputs": [
    {
     "name": "stdout",
     "output_type": "stream",
     "text": [
      "Vector:\n",
      " [10 20 30]\n",
      "Matrix:\n",
      " [[1 2 3]\n",
      " [4 5 6]\n",
      " [7 8 9]]\n",
      "Tensor:\n",
      " [[[  1   2   3]\n",
      "  [  4   5   6]\n",
      "  [  7   8   9]]\n",
      "\n",
      " [[ 10  20  30]\n",
      "  [ 40  50  60]\n",
      "  [ 70  80  90]]\n",
      "\n",
      " [[100 200 300]\n",
      "  [400 500 600]\n",
      "  [700 800 900]]]\n"
     ]
    }
   ],
   "source": [
    "# fmt: off\n",
    "vector = np.array([10, 20, 30])\n",
    "print(\"Vector:\\n\", vector)\n",
    "\n",
    "matrix = np.array(\n",
    "    [\n",
    "        [1, 2, 3],\n",
    "        [4, 5, 6],\n",
    "        [7, 8, 9],\n",
    "    ]\n",
    ")\n",
    "print(\"Matrix:\\n\", matrix)\n",
    "\n",
    "tensor = np.array(\n",
    "    [\n",
    "        [\n",
    "            [1, 2, 3],\n",
    "            [4, 5, 6],\n",
    "            [7, 8, 9],\n",
    "        ],\n",
    "        [\n",
    "            [10, 20, 30],\n",
    "            [40, 50, 60],\n",
    "            [70, 80, 90],\n",
    "        ],\n",
    "        [\n",
    "            [100, 200, 300],\n",
    "            [400, 500, 600],\n",
    "            [700, 800, 900],\n",
    "        ],\n",
    "    ]\n",
    ")\n",
    "print(\"Tensor:\\n\", tensor)"
   ]
  },
  {
   "cell_type": "markdown",
   "id": "f4213da9",
   "metadata": {},
   "source": [
    "### Numpy Array properties:\n"
   ]
  },
  {
   "cell_type": "code",
   "execution_count": 14,
   "id": "22765bc6",
   "metadata": {},
   "outputs": [
    {
     "name": "stdout",
     "output_type": "stream",
     "text": [
      "Shape: (2, 3)\n",
      "Size: 6\n",
      "Dimension: 2\n",
      "Data Type: int64\n",
      "Item Size: 8 bytes\n"
     ]
    }
   ],
   "source": [
    "array = np.array(\n",
    "    [  # fmt:skip\n",
    "        [1, 2, 3],\n",
    "        [4, 5, 6],\n",
    "    ]\n",
    ")\n",
    "print(\"Shape:\", array.shape)\n",
    "print(\"Size:\", array.size)\n",
    "print(\"Dimension:\", array.ndim)\n",
    "print(\"Data Type:\", array.dtype)\n",
    "print(\"Item Size:\", array.itemsize, \"bytes\")"
   ]
  },
  {
   "cell_type": "markdown",
   "id": "b31d6477",
   "metadata": {},
   "source": [
    "##### Changing datatype:\n",
    "\n",
    "- Returns new array with new Data Type\n",
    "- Does not affects original array\n"
   ]
  },
  {
   "cell_type": "code",
   "execution_count": 15,
   "id": "84945433",
   "metadata": {},
   "outputs": [
    {
     "name": "stdout",
     "output_type": "stream",
     "text": [
      "Data Type of Age: int64\n",
      "Data Type of Age (int8): uint8\n",
      "Data Type of Age after Changing: int64\n"
     ]
    }
   ],
   "source": [
    "age = np.array([7, 18, 36, 23, 75, 60, 53, 24, 68, 28, 34, 32])\n",
    "print(\"Data Type of Age:\", age.dtype)\n",
    "age_int8 = age.astype(np.uint8)\n",
    "print(\"Data Type of Age (int8):\", age_int8.dtype)\n",
    "print(\"Data Type of Age after Changing:\", age.dtype)"
   ]
  },
  {
   "cell_type": "markdown",
   "id": "d5951d56",
   "metadata": {},
   "source": [
    "## Array Operations:\n"
   ]
  },
  {
   "cell_type": "markdown",
   "id": "89399ef5",
   "metadata": {},
   "source": [
    "### Array Reshaping:\n",
    "\n",
    "$$\n",
    "\\begin{array}{c}\n",
    "\\begin{bmatrix}\n",
    "1 & 2 & 3 & 4 & 5 & 6 & 7 & 8 & 9 & 10 & 11 & 12\n",
    "\\end{bmatrix} \\\\\n",
    "(1, 12) \\\\[1em]\n",
    "\\text{Original}\n",
    "\\end{array}\n",
    "\\quad\n",
    "\\xrightarrow{\\text{reshape} \\\\[1ex]}\n",
    "\\quad\n",
    "\\begin{array}{c}\n",
    "\\begin{bmatrix}\n",
    "1 & 2 & 3 & 4 \\\\\n",
    "5 & 6 & 7 & 8 \\\\\n",
    "9 & 10 & 11 & 12\n",
    "\\end{bmatrix} \\\\\n",
    "(3, 4) \\\\[1em]\n",
    "\\text{Reshaped Array}\n",
    "\\end{array}\n",
    "$$\n",
    "\n",
    "### Reshaped Matrix Flattening:\n",
    "\n",
    "$$\n",
    "\\begin{array}{c}\n",
    "\\begin{bmatrix}\n",
    "1 & 2 & 3 & 4 \\\\\n",
    "5 & 6 & 7 & 8 \\\\\n",
    "9 & 10 & 11 & 12\n",
    "\\end{bmatrix} \\\\\n",
    "(3, 4) \\\\[1em]\n",
    "\\text{Reshaped Array}\n",
    "\\end{array}\n",
    "\\quad\n",
    "\\xrightarrow{\\text{flatten}}\n",
    "\\quad\n",
    "\\begin{array}{c}\n",
    "\\begin{bmatrix}\n",
    "1 & 2 & 3 & 4 & 5 & 6 & 7 & 8 & 9 & 10 & 11 & 12\n",
    "\\end{bmatrix} \\\\\n",
    "(1, 12) \\\\[1em]\n",
    "\\text{Flattened Array}\n",
    "\\end{array}\n",
    "$$\n"
   ]
  },
  {
   "cell_type": "code",
   "execution_count": 16,
   "id": "f8924fa3",
   "metadata": {},
   "outputs": [
    {
     "name": "stdout",
     "output_type": "stream",
     "text": [
      "Original Array:\n",
      " [ 1  2  3  4  5  6  7  8  9 10 11 12]\n",
      "\n",
      "Reshaped Array:\n",
      " [[ 1  2  3  4]\n",
      " [ 5  6  7  8]\n",
      " [ 9 10 11 12]]\n",
      "\n",
      "Flattened Array:\n",
      " [ 1  2  3  4  5  6  7  8  9 10 11 12]\n"
     ]
    }
   ],
   "source": [
    "array = np.arange(1, 13)\n",
    "print(\"Original Array:\\n\", array)\n",
    "\n",
    "reshaped = array.reshape((3, 4))\n",
    "print(\"\\nReshaped Array:\\n\", reshaped)\n",
    "\n",
    "flattened = reshaped.flatten()\n",
    "print(\"\\nFlattened Array:\\n\", flattened)"
   ]
  },
  {
   "cell_type": "markdown",
   "id": "c48cfcae",
   "metadata": {},
   "source": [
    "### Reshaped Array and Ravelled View modifications:\n",
    "\n",
    "$$\n",
    "\\begin{array}{c}\n",
    "\\begin{bmatrix}\n",
    "\\color{yellow}{100} & 2 & 3 & 4 \\\\\n",
    "5 & 6 & 7 & 8 \\\\\n",
    "9 & 10 & 11 & 12\n",
    "\\end{bmatrix} \\\\\n",
    "(3, 4) \\\\[1em]\n",
    "\\text{Reshaped Array}\n",
    "\\end{array}\n",
    "\\quad\n",
    "\\xleftrightarrow{\\text{reflects}}\n",
    "\\quad\n",
    "\\begin{array}{c}\n",
    "\\begin{bmatrix}\n",
    "\\color{yellow}{100} & 2 & 3 & 4 & 5 & 6 & 7 & 8 & 9 & 10 & 11 & 12\n",
    "\\end{bmatrix} \\\\\n",
    "(1,12) \\\\[1em]\n",
    "\\text{Ravelled View}\n",
    "\\end{array}\n",
    "$$\n"
   ]
  },
  {
   "cell_type": "code",
   "execution_count": 17,
   "id": "4109e092",
   "metadata": {},
   "outputs": [
    {
     "name": "stdout",
     "output_type": "stream",
     "text": [
      "Revelled View:\n",
      " [ 1  2  3  4  5  6  7  8  9 10 11 12]\n",
      "\n",
      "Modified Revelled:\n",
      " [100   2   3   4   5   6   7   8   9  10  11  12]\n",
      "Updated Reshaped:\n",
      " [[100   2   3   4]\n",
      " [  5   6   7   8]\n",
      " [  9  10  11  12]]\n",
      "\n",
      "Modified Reshaped:\n",
      " [[1000    2    3    4]\n",
      " [   5    6    7    8]\n",
      " [   9   10   11   12]]\n",
      "Updated Ravelled:\n",
      " [1000    2    3    4    5    6    7    8    9   10   11   12]\n"
     ]
    }
   ],
   "source": [
    "ravelled = reshaped.ravel()\n",
    "print(\"Revelled View:\\n\", ravelled)\n",
    "\n",
    "ravelled[0] = 100\n",
    "print(\"\\nModified Revelled:\\n\", ravelled)\n",
    "print(\"Updated Reshaped:\\n\", reshaped)\n",
    "\n",
    "reshaped[0, 0] = 1000\n",
    "print(\"\\nModified Reshaped:\\n\", reshaped)\n",
    "print(\"Updated Ravelled:\\n\", ravelled)"
   ]
  },
  {
   "cell_type": "markdown",
   "id": "b4ece149",
   "metadata": {},
   "source": [
    "### Matrix Transpose\n",
    "\n",
    "$$\n",
    "\\text{A} =\n",
    "\\begin{array}{c}\n",
    "\\begin{bmatrix}\n",
    "1 & 2 & 3 \\\\\n",
    "4 & 5 & 6 \\\\\n",
    "7 & 8 & 9\n",
    "\\end{bmatrix} \\\\[1.5em]\n",
    "\\text{Original}\n",
    "\\end{array}\n",
    "\\quad\n",
    "\\text{A}^T =\n",
    "\\begin{array}{c}\n",
    "\\begin{bmatrix}\n",
    "1 & 4 & 7 \\\\\n",
    "2 & 5 & 8 \\\\\n",
    "3 & 6 & 9\n",
    "\\end{bmatrix} \\\\[1.5em]\n",
    "\\text{Transposed}\n",
    "\\end{array}\n",
    "$$\n"
   ]
  },
  {
   "cell_type": "code",
   "execution_count": 18,
   "id": "a8b2ec0b",
   "metadata": {},
   "outputs": [
    {
     "name": "stdout",
     "output_type": "stream",
     "text": [
      "Original:\n",
      " [[1 2 3]\n",
      " [4 5 6]\n",
      " [7 8 9]]\n",
      "Transposed:\n",
      " [[1 4 7]\n",
      " [2 5 8]\n",
      " [3 6 9]]\n"
     ]
    }
   ],
   "source": [
    "matrix = np.arange(1, 10).reshape((3, 3))\n",
    "transposed = matrix.T  # Alternative: np.transpose(array)\n",
    "print(\"Original:\\n\", matrix)\n",
    "print(\"Transposed:\\n\", transposed)"
   ]
  },
  {
   "cell_type": "markdown",
   "id": "ab02f0f8",
   "metadata": {},
   "source": [
    "#### Arithmetic Operations:\n"
   ]
  },
  {
   "cell_type": "code",
   "execution_count": 19,
   "id": "3c31415e",
   "metadata": {},
   "outputs": [
    {
     "name": "stdout",
     "output_type": "stream",
     "text": [
      "Array:\n",
      " [[ 2  4  6]\n",
      " [ 8 10 12]\n",
      " [14 16 18]]\n",
      "Array * 2:\n",
      " [[ 2  4  6]\n",
      " [ 8 10 12]\n",
      " [14 16 18]]\n"
     ]
    }
   ],
   "source": [
    "array = np.arange(1, 10).reshape((3, 3))\n",
    "\n",
    "## Performs operation for every elements of array\n",
    "print(\"Array:\\n\", array * 2)\n",
    "print(\"Array * 2:\\n\", array * 2)"
   ]
  },
  {
   "cell_type": "code",
   "execution_count": 20,
   "id": "e13ebfe8",
   "metadata": {},
   "outputs": [
    {
     "name": "stdout",
     "output_type": "stream",
     "text": [
      "Array 1:\n",
      " [[1 2 3]\n",
      " [4 5 6]\n",
      " [7 8 9]]\n",
      "Array 2:\n",
      " [[10 11 12]\n",
      " [13 14 15]\n",
      " [16 17 18]]\n",
      "\n",
      "Array 1 + Array 2:\n",
      " [[11 13 15]\n",
      " [17 19 21]\n",
      " [23 25 27]]\n"
     ]
    }
   ],
   "source": [
    "array1 = np.arange(1, 10).reshape((3, 3))\n",
    "array2 = np.arange(10, 19).reshape((3, 3))\n",
    "\n",
    "print(\"Array 1:\\n\", array1)\n",
    "print(\"Array 2:\\n\", array2)\n",
    "\n",
    "## Element-wise addition\n",
    "print(\"\\nArray 1 + Array 2:\\n\", array1 + array2)"
   ]
  },
  {
   "cell_type": "markdown",
   "id": "9fe0fb45",
   "metadata": {},
   "source": [
    "#### Relational Operation:\n"
   ]
  },
  {
   "cell_type": "code",
   "execution_count": 21,
   "id": "6f265bcf",
   "metadata": {},
   "outputs": [
    {
     "name": "stdout",
     "output_type": "stream",
     "text": [
      "Array > 5:\n",
      " [[False False False]\n",
      " [False False  True]\n",
      " [ True  True  True]]\n"
     ]
    }
   ],
   "source": [
    "print(\"Array > 5:\\n\", array > 5)"
   ]
  },
  {
   "cell_type": "markdown",
   "id": "af743e90",
   "metadata": {},
   "source": [
    "### Array Funtions:\n"
   ]
  },
  {
   "cell_type": "code",
   "execution_count": 22,
   "id": "dfce8611",
   "metadata": {},
   "outputs": [
    {
     "name": "stdout",
     "output_type": "stream",
     "text": [
      "Array:\n",
      " [[65.13407045 59.82009712 41.82739999]\n",
      " [35.75898594 94.93093349 22.20625934]]\n",
      "\n",
      "Rounded Array:\n",
      " [[65 60 42]\n",
      " [36 95 22]]\n",
      "\n",
      "Ceil Array:\n",
      " [[66 60 42]\n",
      " [36 95 23]]\n",
      "\n",
      "Floor Array:\n",
      " [[65 59 41]\n",
      " [35 94 22]]\n"
     ]
    }
   ],
   "source": [
    "array = np.random.random((2, 3)) * 100\n",
    "print(\"Array:\\n\", array)\n",
    "\n",
    "round_array = np.round(array)\n",
    "round_array = round_array.astype(np.int8)\n",
    "print(\"\\nRounded Array:\\n\", round_array)\n",
    "\n",
    "ceil_array = np.ceil(array)\n",
    "ceil_array = ceil_array.astype(np.int8)\n",
    "print(\"\\nCeil Array:\\n\", ceil_array)\n",
    "\n",
    "floor_array = np.floor(array)\n",
    "floor_array = floor_array.astype(np.int8)\n",
    "print(\"\\nFloor Array:\\n\", floor_array)"
   ]
  },
  {
   "cell_type": "code",
   "execution_count": 23,
   "id": "ae548539",
   "metadata": {},
   "outputs": [
    {
     "name": "stdout",
     "output_type": "stream",
     "text": [
      "Minimum: 22.206259335889346\n",
      "Maximum: 94.93093348883329\n",
      "Sum: 319.67774632911363\n",
      "Sum along Column: [100.89305639 154.75103061  64.03365933]\n",
      "Sum along Row: [166.78156756 152.89617877]\n",
      "Product: 12285265774.465837\n"
     ]
    }
   ],
   "source": [
    "min_value = np.min(array)\n",
    "max_value = np.max(array)\n",
    "sum_value = np.sum(array)\n",
    "sum_value_column = np.sum(array, axis=0)\n",
    "sum_value_row = np.sum(array, axis=1)\n",
    "prod_value = np.prod(array)\n",
    "\n",
    "print(\"Minimum:\", min_value)\n",
    "print(\"Maximum:\", max_value)\n",
    "print(\"Sum:\", sum_value)\n",
    "print(\"Sum along Column:\", sum_value_column)\n",
    "print(\"Sum along Row:\", sum_value_row)\n",
    "print(\"Product:\", prod_value)"
   ]
  },
  {
   "cell_type": "code",
   "execution_count": 24,
   "id": "f17f8fcf",
   "metadata": {},
   "outputs": [
    {
     "name": "stdout",
     "output_type": "stream",
     "text": [
      "Average: 53.2796243881856\n",
      "Median: 50.82374855606814\n",
      "Standard Deviation: 23.529476037160293\n",
      "Variance: 553.6362425833005\n"
     ]
    }
   ],
   "source": [
    "average_value = np.mean(array)\n",
    "median_value = np.median(array)\n",
    "standard_deviation_value = np.std(array)\n",
    "variance_value = np.var(array)\n",
    "\n",
    "print(\"Average:\", average_value)\n",
    "print(\"Median:\", median_value)\n",
    "print(\"Standard Deviation:\", standard_deviation_value)\n",
    "print(\"Variance:\", variance_value)"
   ]
  },
  {
   "cell_type": "code",
   "execution_count": 25,
   "id": "37f63d2d",
   "metadata": {},
   "outputs": [
    {
     "name": "stdout",
     "output_type": "stream",
     "text": [
      "Sin: [[0.44517385 0.67877687 0.36595407]]\n",
      "Hyperbolic Cos: [[1.10833175 1.29148261 1.07100905]]\n",
      "Tan Inverse: [[0.43226757 0.6409977  0.35847061]]\n",
      "Degree: [[26.43446221 42.74813717 21.46630965]]\n",
      "Radian: [[0.0080524  0.01302183 0.00653901]]\n"
     ]
    }
   ],
   "source": [
    "array = np.random.random((1, 3))\n",
    "sin_array = np.sin(array)\n",
    "cos_array = np.cosh(array)\n",
    "arctan_array = np.arctan(array)\n",
    "degree_array = np.degrees(array)  ## Alternative: np.rad2deg\n",
    "radian_array = np.radians(array)  # Alternative: np.deg2rad\n",
    "\n",
    "print(\"Sin:\", sin_array)\n",
    "print(\"Hyperbolic Cos:\", cos_array)\n",
    "print(\"Tan Inverse:\", arctan_array)\n",
    "print(\"Degree:\", degree_array)\n",
    "print(\"Radian:\", radian_array)"
   ]
  },
  {
   "cell_type": "markdown",
   "id": "20025738",
   "metadata": {},
   "source": [
    "#### Dot Product:\n",
    "\n",
    "$$\n",
    "\n",
    "A = \\begin{bmatrix}\n",
    "a_{11} & a_{12} & a_{13} \\\\\n",
    "a_{21} & a_{22} & a_{23}\n",
    "\\end{bmatrix}\n",
    "\n",
    "\\\\[2ex]\n",
    "\n",
    "B = \\begin{bmatrix}\n",
    "b_{11} & b_{12} \\\\\n",
    "b_{21} & b_{22} \\\\\n",
    "b_{31} & b_{32}\n",
    "\\end{bmatrix}\n",
    "\n",
    "\\\\[2ex]\n",
    "\n",
    "A \\cdot B\n",
    "= \\begin{bmatrix}\n",
    "a_{11}b_{11} + a_{12}b_{21} + a_{13}b_{31} &\n",
    "a_{11}b_{12} + a_{12}b_{22} + a_{13}b_{32} \\\\\n",
    "a_{21}b_{11} + a_{22}b_{21} + a_{23}b_{31} &\n",
    "a_{21}b_{12} + a_{22}b_{22} + a_{23}b_{32}\n",
    "\\end{bmatrix}\n",
    "\n",
    "\n",
    "$$\n"
   ]
  },
  {
   "cell_type": "code",
   "execution_count": 26,
   "id": "26ac39f8",
   "metadata": {},
   "outputs": [
    {
     "name": "stdout",
     "output_type": "stream",
     "text": [
      "Dot Product: \n",
      "A = \n",
      "[[1 2 3]\n",
      " [4 5 6]]\n",
      "B = \n",
      "[[ 7  8]\n",
      " [ 9 10]\n",
      " [11 12]]\n",
      "\n",
      "A · B = \n",
      "[[ 58  64]\n",
      " [139 154]]\n"
     ]
    }
   ],
   "source": [
    "matrix1 = np.arange(1, 7).reshape((2, 3))\n",
    "matrix2 = np.arange(7, 13).reshape((3, 2))\n",
    "dot_product = np.dot(matrix1, matrix2)  # Alternative: matrix1 @ matrix2\n",
    "\n",
    "print(f\"Dot Product: \\nA = \\n{matrix1}\\nB = \\n{matrix2}\\n\\nA · B = \\n{dot_product}\")"
   ]
  }
 ],
 "metadata": {
  "kernelspec": {
   "display_name": ".venv",
   "language": "python",
   "name": "python3"
  },
  "language_info": {
   "codemirror_mode": {
    "name": "ipython",
    "version": 3
   },
   "file_extension": ".py",
   "mimetype": "text/x-python",
   "name": "python",
   "nbconvert_exporter": "python",
   "pygments_lexer": "ipython3",
   "version": "3.13.3"
  }
 },
 "nbformat": 4,
 "nbformat_minor": 5
}
