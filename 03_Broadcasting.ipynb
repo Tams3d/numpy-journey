{
 "cells": [
  {
   "cell_type": "markdown",
   "id": "740f5b0c",
   "metadata": {},
   "source": [
    "## Broadcasting:\n"
   ]
  },
  {
   "cell_type": "code",
   "execution_count": 1,
   "id": "6b98d1af",
   "metadata": {},
   "outputs": [],
   "source": [
    "import numpy as np"
   ]
  },
  {
   "cell_type": "markdown",
   "id": "1016a39d",
   "metadata": {},
   "source": [
    "<div align=center>\n",
    "\n",
    "![image](https://jakevdp.github.io/PythonDataScienceHandbook/figures/02.05-broadcasting.png)\n",
    "\n",
    "</div>\n"
   ]
  },
  {
   "cell_type": "markdown",
   "id": "0df00f29",
   "metadata": {},
   "source": [
    "#### Operation of different size arrays:\n"
   ]
  },
  {
   "cell_type": "code",
   "execution_count": 2,
   "id": "5398a876",
   "metadata": {},
   "outputs": [
    {
     "name": "stdout",
     "output_type": "stream",
     "text": [
      "Array 1:\n",
      " [[0 1 2]\n",
      " [3 4 5]]\n",
      "Array 2:\n",
      " [1 2 3]\n",
      "Array 1 + Array 2:\n",
      " [[1 3 5]\n",
      " [4 6 8]]\n"
     ]
    }
   ],
   "source": [
    "array1 = np.arange(6).reshape(2, 3)\n",
    "array2 = np.arange(1, 4)\n",
    "\n",
    "print(\"Array 1:\\n\", array1)\n",
    "print(\"Array 2:\\n\", array2)\n",
    "\n",
    "print(\"Array 1 + Array 2:\\n\", array1 + array2)"
   ]
  },
  {
   "cell_type": "code",
   "execution_count": 3,
   "id": "de734a8e",
   "metadata": {},
   "outputs": [
    {
     "name": "stdout",
     "output_type": "stream",
     "text": [
      "Array 1:\n",
      " [[0]\n",
      " [1]\n",
      " [2]]\n",
      "Array 2:\n",
      " [1 2 3]\n",
      "Array 1 + Array 2:\n",
      " [[1 2 3]\n",
      " [2 3 4]\n",
      " [3 4 5]]\n"
     ]
    }
   ],
   "source": [
    "array1 = np.arange(3).reshape(3, 1)\n",
    "array2 = np.arange(1, 4)\n",
    "\n",
    "print(\"Array 1:\\n\", array1)\n",
    "print(\"Array 2:\\n\", array2)\n",
    "\n",
    "print(\"Array 1 + Array 2:\\n\", array1 + array2)"
   ]
  },
  {
   "cell_type": "code",
   "execution_count": 4,
   "id": "d8dd1a9a",
   "metadata": {},
   "outputs": [
    {
     "name": "stdout",
     "output_type": "stream",
     "text": [
      "Array 1:\n",
      " [0 1 2]\n",
      "Array 2:\n",
      " [[0]\n",
      " [1]\n",
      " [2]\n",
      " [3]]\n",
      "Array 1 + Array 2:\n",
      " [[0 1 2]\n",
      " [1 2 3]\n",
      " [2 3 4]\n",
      " [3 4 5]]\n"
     ]
    }
   ],
   "source": [
    "array1 = np.arange(3)\n",
    "array2 = np.arange(4).reshape(4, 1)\n",
    "\n",
    "print(\"Array 1:\\n\", array1)\n",
    "print(\"Array 2:\\n\", array2)\n",
    "\n",
    "print(\"Array 1 + Array 2:\\n\", array1 + array2)"
   ]
  },
  {
   "cell_type": "code",
   "execution_count": 5,
   "id": "a2d7b16c",
   "metadata": {},
   "outputs": [
    {
     "name": "stdout",
     "output_type": "stream",
     "text": [
      "Array 1:\n",
      " [[ 0  1  2  3]\n",
      " [ 4  5  6  7]\n",
      " [ 8  9 10 11]]\n",
      "Array 2:\n",
      " [[0]\n",
      " [1]\n",
      " [2]\n",
      " [3]]\n"
     ]
    },
    {
     "ename": "ValueError",
     "evalue": "operands could not be broadcast together with shapes (3,4) (4,1) ",
     "output_type": "error",
     "traceback": [
      "\u001b[31m---------------------------------------------------------------------------\u001b[39m",
      "\u001b[31mValueError\u001b[39m                                Traceback (most recent call last)",
      "\u001b[36mCell\u001b[39m\u001b[36m \u001b[39m\u001b[32mIn[5]\u001b[39m\u001b[32m, line 8\u001b[39m\n\u001b[32m      5\u001b[39m \u001b[38;5;28mprint\u001b[39m(\u001b[33m\"\u001b[39m\u001b[33mArray 1:\u001b[39m\u001b[38;5;130;01m\\n\u001b[39;00m\u001b[33m\"\u001b[39m, array1)\n\u001b[32m      6\u001b[39m \u001b[38;5;28mprint\u001b[39m(\u001b[33m\"\u001b[39m\u001b[33mArray 2:\u001b[39m\u001b[38;5;130;01m\\n\u001b[39;00m\u001b[33m\"\u001b[39m, array2)\n\u001b[32m----> \u001b[39m\u001b[32m8\u001b[39m \u001b[38;5;28mprint\u001b[39m(\u001b[33m\"\u001b[39m\u001b[33mArray 1 + Array 2:\u001b[39m\u001b[38;5;130;01m\\n\u001b[39;00m\u001b[33m\"\u001b[39m, \u001b[43marray1\u001b[49m\u001b[43m \u001b[49m\u001b[43m+\u001b[49m\u001b[43m \u001b[49m\u001b[43marray2\u001b[49m)\n",
      "\u001b[31mValueError\u001b[39m: operands could not be broadcast together with shapes (3,4) (4,1) "
     ]
    }
   ],
   "source": [
    "# Cannot be Broadcasted\n",
    "array1 = np.arange(12).reshape(3, 4)\n",
    "array2 = np.arange(4).reshape(4, 1)\n",
    "\n",
    "print(\"Array 1:\\n\", array1)\n",
    "print(\"Array 2:\\n\", array2)\n",
    "\n",
    "print(\"Array 1 + Array 2:\\n\", array1 + array2)"
   ]
  }
 ],
 "metadata": {
  "kernelspec": {
   "display_name": ".venv",
   "language": "python",
   "name": "python3"
  },
  "language_info": {
   "codemirror_mode": {
    "name": "ipython",
    "version": 3
   },
   "file_extension": ".py",
   "mimetype": "text/x-python",
   "name": "python",
   "nbconvert_exporter": "python",
   "pygments_lexer": "ipython3",
   "version": "3.13.3"
  }
 },
 "nbformat": 4,
 "nbformat_minor": 5
}
