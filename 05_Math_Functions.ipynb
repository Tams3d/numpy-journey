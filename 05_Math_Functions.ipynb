{
 "cells": [
  {
   "cell_type": "markdown",
   "id": "d2ca7990",
   "metadata": {},
   "source": [
    "# Math Functions\n"
   ]
  },
  {
   "cell_type": "code",
   "execution_count": 1,
   "id": "274feaf2",
   "metadata": {},
   "outputs": [],
   "source": [
    "import matplotlib.pyplot as plt\n",
    "import numpy as np"
   ]
  },
  {
   "cell_type": "markdown",
   "id": "ede436ea",
   "metadata": {},
   "source": [
    "#### Arithmetic Operations\n"
   ]
  },
  {
   "cell_type": "code",
   "execution_count": 2,
   "id": "2d6d4312",
   "metadata": {},
   "outputs": [
    {
     "name": "stdout",
     "output_type": "stream",
     "text": [
      "Array:\n",
      " [[ 2  4  6]\n",
      " [ 8 10 12]\n",
      " [14 16 18]]\n",
      "Array * 2:\n",
      " [[ 2  4  6]\n",
      " [ 8 10 12]\n",
      " [14 16 18]]\n"
     ]
    }
   ],
   "source": [
    "array = np.arange(1, 10).reshape((3, 3))\n",
    "\n",
    "## Performs operation for every elements of array\n",
    "print(\"Array:\\n\", array * 2)\n",
    "print(\"Array * 2:\\n\", array * 2)"
   ]
  },
  {
   "cell_type": "code",
   "execution_count": 3,
   "id": "e0ec5a8b",
   "metadata": {},
   "outputs": [
    {
     "name": "stdout",
     "output_type": "stream",
     "text": [
      "Array 1:\n",
      " [[1 2 3]\n",
      " [4 5 6]\n",
      " [7 8 9]]\n",
      "Array 2:\n",
      " [[10 11 12]\n",
      " [13 14 15]\n",
      " [16 17 18]]\n",
      "\n",
      "Array 1 + Array 2:\n",
      " [[11 13 15]\n",
      " [17 19 21]\n",
      " [23 25 27]]\n"
     ]
    }
   ],
   "source": [
    "array1 = np.arange(1, 10).reshape((3, 3))\n",
    "array2 = np.arange(10, 19).reshape((3, 3))\n",
    "\n",
    "print(\"Array 1:\\n\", array1)\n",
    "print(\"Array 2:\\n\", array2)\n",
    "\n",
    "## Element-wise addition\n",
    "print(\"\\nArray 1 + Array 2:\\n\", array1 + array2)"
   ]
  },
  {
   "cell_type": "markdown",
   "id": "4143dcee",
   "metadata": {},
   "source": [
    "#### Relational Operation\n"
   ]
  },
  {
   "cell_type": "code",
   "execution_count": 4,
   "id": "a74df740",
   "metadata": {},
   "outputs": [
    {
     "name": "stdout",
     "output_type": "stream",
     "text": [
      "Array > 5:\n",
      " [[False False False]\n",
      " [False False  True]\n",
      " [ True  True  True]]\n"
     ]
    }
   ],
   "source": [
    "print(\"Array > 5:\\n\", array > 5)"
   ]
  },
  {
   "cell_type": "markdown",
   "id": "86511e23",
   "metadata": {},
   "source": [
    "## Array Funtions\n"
   ]
  },
  {
   "cell_type": "markdown",
   "id": "f8dc724a",
   "metadata": {},
   "source": [
    "### Rounding off Functions\n"
   ]
  },
  {
   "cell_type": "code",
   "execution_count": 5,
   "id": "4fe0ec82",
   "metadata": {},
   "outputs": [
    {
     "name": "stdout",
     "output_type": "stream",
     "text": [
      "Array:\n",
      " [[47.11410061 45.80832616  7.4946086 ]\n",
      " [56.04282096 19.55284801 49.56067595]]\n",
      "\n",
      "Rounded Array:\n",
      " [[47 46  7]\n",
      " [56 20 50]]\n",
      "\n",
      "Ceil Array:\n",
      " [[48 46  8]\n",
      " [57 20 50]]\n",
      "\n",
      "Floor Array:\n",
      " [[47 45  7]\n",
      " [56 19 49]]\n"
     ]
    }
   ],
   "source": [
    "array = np.random.random((2, 3)) * 100\n",
    "print(\"Array:\\n\", array)\n",
    "\n",
    "round_array = np.round(array)\n",
    "round_array = round_array.astype(np.int8)\n",
    "print(\"\\nRounded Array:\\n\", round_array)\n",
    "\n",
    "ceil_array = np.ceil(array)\n",
    "ceil_array = ceil_array.astype(np.int8)\n",
    "print(\"\\nCeil Array:\\n\", ceil_array)\n",
    "\n",
    "floor_array = np.floor(array)\n",
    "floor_array = floor_array.astype(np.int8)\n",
    "print(\"\\nFloor Array:\\n\", floor_array)"
   ]
  },
  {
   "cell_type": "markdown",
   "id": "726f42f6",
   "metadata": {},
   "source": [
    "### Aggregate Functions\n"
   ]
  },
  {
   "cell_type": "code",
   "execution_count": 6,
   "id": "90b2f604",
   "metadata": {},
   "outputs": [
    {
     "name": "stdout",
     "output_type": "stream",
     "text": [
      "Array:\n",
      " [[16  6  8]\n",
      " [ 2  5 10]]\n",
      "\n",
      "Minimum: 2\n",
      "Maximum: 16\n",
      "Sum: 47\n",
      "Sum along Column: [18 11 18]\n",
      "Sum along Row: [30 17]\n",
      "Product: 76800\n"
     ]
    }
   ],
   "source": [
    "array = np.random.randint(1, 20, 6).reshape(2, 3)\n",
    "print(\"Array:\\n\", array)\n",
    "\n",
    "min_value = np.min(array)\n",
    "max_value = np.max(array)\n",
    "sum_value = np.sum(array)\n",
    "sum_value_column = np.sum(array, axis=0)\n",
    "sum_value_row = np.sum(array, axis=1)\n",
    "prod_value = np.prod(array)\n",
    "\n",
    "print(\"\\nMinimum:\", min_value)\n",
    "print(\"Maximum:\", max_value)\n",
    "print(\"Sum:\", sum_value)\n",
    "print(\"Sum along Column:\", sum_value_column)\n",
    "print(\"Sum along Row:\", sum_value_row)\n",
    "print(\"Product:\", prod_value)"
   ]
  },
  {
   "cell_type": "markdown",
   "id": "ba3ae82c",
   "metadata": {},
   "source": [
    "### Statistical Functions\n"
   ]
  },
  {
   "cell_type": "code",
   "execution_count": 7,
   "id": "3158e437",
   "metadata": {},
   "outputs": [
    {
     "name": "stdout",
     "output_type": "stream",
     "text": [
      "Average: 7.833333333333333\n",
      "Median: 7.0\n",
      "Standard Deviation: 4.412734098291242\n",
      "Variance: 19.47222222222222\n"
     ]
    }
   ],
   "source": [
    "average_value = np.mean(array)\n",
    "median_value = np.median(array)\n",
    "standard_deviation_value = np.std(array)\n",
    "variance_value = np.var(array)\n",
    "\n",
    "print(\"Average:\", average_value)\n",
    "print(\"Median:\", median_value)\n",
    "print(\"Standard Deviation:\", standard_deviation_value)\n",
    "print(\"Variance:\", variance_value)"
   ]
  },
  {
   "cell_type": "markdown",
   "id": "a3622c5d",
   "metadata": {},
   "source": [
    "#### Cumulative Sum, Cumulative Product\n"
   ]
  },
  {
   "cell_type": "code",
   "execution_count": 8,
   "id": "9a564d77",
   "metadata": {},
   "outputs": [
    {
     "name": "stdout",
     "output_type": "stream",
     "text": [
      "Cumulative Sum: [16 22 30 32 37 47]\n",
      "Cumulative Product: [   16    96   768  1536  7680 76800]\n",
      "\n",
      "Cumulative Sum along Row:\n",
      " [[16 22 30]\n",
      " [ 2  7 17]]\n",
      "Cumulative Product along Column:\n",
      " [[16  6  8]\n",
      " [32 30 80]]\n"
     ]
    }
   ],
   "source": [
    "cumsum_array = np.cumsum(array)\n",
    "cumprod_array = np.cumprod(array)\n",
    "\n",
    "print(\"Cumulative Sum:\", cumsum_array)\n",
    "print(\"Cumulative Product:\", cumprod_array)\n",
    "\n",
    "print(\"\\nCumulative Sum along Row:\\n\", np.cumsum(array, axis=1))\n",
    "print(\"Cumulative Product along Column:\\n\", np.cumprod(array, axis=0))"
   ]
  },
  {
   "cell_type": "markdown",
   "id": "a7625bda",
   "metadata": {},
   "source": [
    "#### Percentile\n"
   ]
  },
  {
   "cell_type": "code",
   "execution_count": 9,
   "id": "932fde85",
   "metadata": {},
   "outputs": [
    {
     "name": "stdout",
     "output_type": "stream",
     "text": [
      "Array: [60 18 29 92 80 11 77 14 69 74 51 40 15  7 66 80 58 51 65 73]\n",
      "Percentile: 92.0\n"
     ]
    }
   ],
   "source": [
    "array = np.random.randint(0, 100, 20)\n",
    "print(\"Array:\", array)\n",
    "\n",
    "percentile_value = np.percentile(array, 100)\n",
    "print(\"Percentile:\", percentile_value)"
   ]
  },
  {
   "cell_type": "markdown",
   "id": "5a87d277",
   "metadata": {},
   "source": [
    "#### Histogram\n",
    "\n",
    "- Returns count and bins as a tuple of arrays.\n",
    "- Count is the number of elements between the n<sup>th</sup> bin and (n+1)<sup>th</sup> bin.\n",
    "- Bins represents the range categories in the data.\n",
    "- Bins are left-inclusive, right-exclusive by default `[a, b)` except the last is both inclusive `[b, c]`\n"
   ]
  },
  {
   "cell_type": "code",
   "execution_count": 10,
   "id": "4720fa17",
   "metadata": {},
   "outputs": [
    {
     "name": "stdout",
     "output_type": "stream",
     "text": [
      "Array: [60 18 29 92 80 11 77 14 69 74 51 40 15  7 66 80 58 51 65 73]\n",
      "\n",
      "Histogram: (array([ 6, 13,  1]), array([  0,  35,  90, 100]))\n",
      "Elements from 0 to 35: 6\n",
      "Elements from 35 to 90: 13\n",
      "Elements from 90 to 100: 1\n"
     ]
    }
   ],
   "source": [
    "print(\"Array:\", array)\n",
    "\n",
    "histogram = np.histogram(\n",
    "    array,\n",
    "    bins=[0, 35, 90, 100],\n",
    ")\n",
    "print(\"\\nHistogram:\", histogram)\n",
    "\n",
    "count, bins = histogram\n",
    "for i in range(len(count)):\n",
    "    print(f\"Elements from {bins[i]} to {bins[i + 1]}: {count[i]}\")"
   ]
  },
  {
   "cell_type": "code",
   "execution_count": 11,
   "id": "566ed60c",
   "metadata": {},
   "outputs": [
    {
     "data": {
      "image/png": "[encoded data removed]",
      "text/plain": [
       "<Figure size 640x480 with 1 Axes>"
      ]
     },
     "metadata": {},
     "output_type": "display_data"
    }
   ],
   "source": [
    "plt.hist(\n",
    "    array,\n",
    "    bins=bins,\n",
    "    edgecolor=\"black\",\n",
    "    linewidth=1,\n",
    ")\n",
    "\n",
    "plt.title(\"Histogram of Values\", fontsize=14, fontweight=\"bold\")\n",
    "plt.xlabel(\"Bins\", fontsize=12)\n",
    "plt.ylabel(\"Frequency\", fontsize=12)\n",
    "plt.grid(axis=\"y\", alpha=0.25)\n",
    "plt.show()"
   ]
  },
  {
   "cell_type": "markdown",
   "id": "9cd4a454",
   "metadata": {},
   "source": [
    "#### Correlation Coefficient\n"
   ]
  },
  {
   "cell_type": "code",
   "execution_count": 12,
   "id": "0441a327",
   "metadata": {},
   "outputs": [
    {
     "name": "stdout",
     "output_type": "stream",
     "text": [
      "Correlation Coefficient:\n",
      " [[1.         0.20565638]\n",
      " [0.20565638 1.        ]]\n"
     ]
    }
   ],
   "source": [
    "salary = np.array([40000, 25000, 80000, 16000, 55000])\n",
    "experience = np.array([2, 5, 3, 1, 4])\n",
    "\n",
    "correlation_coefficient = np.corrcoef(salary, experience)\n",
    "print(\"Correlation Coefficient:\\n\", correlation_coefficient)"
   ]
  },
  {
   "cell_type": "markdown",
   "id": "69808d47",
   "metadata": {},
   "source": [
    "### Trigonometric Functions\n"
   ]
  },
  {
   "cell_type": "code",
   "execution_count": 13,
   "id": "12dd6705",
   "metadata": {},
   "outputs": [
    {
     "name": "stdout",
     "output_type": "stream",
     "text": [
      "Sin: [[0.82762079 0.51551836 0.69802072]]\n",
      "Hyperbolic Cos: [[1.5140155  1.15029273 1.31362518]]\n",
      "Tan Inverse: [[0.77266653 0.49638086 0.65782751]]\n",
      "Degree: [[55.85510567 31.03210929 44.26842122]]\n",
      "Radian: [[0.01701444 0.00945292 0.01348493]]\n"
     ]
    }
   ],
   "source": [
    "array = np.random.random((1, 3))\n",
    "\n",
    "sin_array = np.sin(array)\n",
    "cos_array = np.cosh(array)\n",
    "arctan_array = np.arctan(array)\n",
    "degree_array = np.degrees(array)  ## Alternative: np.rad2deg\n",
    "radian_array = np.radians(array)  # Alternative: np.deg2rad\n",
    "\n",
    "print(\"Sin:\", sin_array)\n",
    "print(\"Hyperbolic Cos:\", cos_array)\n",
    "print(\"Tan Inverse:\", arctan_array)\n",
    "print(\"Degree:\", degree_array)\n",
    "print(\"Radian:\", radian_array)"
   ]
  },
  {
   "cell_type": "markdown",
   "id": "f97447c5",
   "metadata": {},
   "source": [
    "### Dot Product\n",
    "\n",
    "$$\n",
    "\n",
    "A = \\begin{bmatrix}\n",
    "a_{11} & a_{12} & a_{13} \\\\\n",
    "a_{21} & a_{22} & a_{23}\n",
    "\\end{bmatrix}\n",
    "\n",
    "\\\\[2ex]\n",
    "\n",
    "B = \\begin{bmatrix}\n",
    "b_{11} & b_{12} \\\\\n",
    "b_{21} & b_{22} \\\\\n",
    "b_{31} & b_{32}\n",
    "\\end{bmatrix}\n",
    "\n",
    "\\\\[2ex]\n",
    "\n",
    "A \\cdot B\n",
    "= \\begin{bmatrix}\n",
    "a_{11}b_{11} + a_{12}b_{21} + a_{13}b_{31} &\n",
    "a_{11}b_{12} + a_{12}b_{22} + a_{13}b_{32} \\\\\n",
    "a_{21}b_{11} + a_{22}b_{21} + a_{23}b_{31} &\n",
    "a_{21}b_{12} + a_{22}b_{22} + a_{23}b_{32}\n",
    "\\end{bmatrix}\n",
    "\n",
    "\n",
    "$$\n"
   ]
  },
  {
   "cell_type": "code",
   "execution_count": 14,
   "id": "0c02f17a",
   "metadata": {},
   "outputs": [
    {
     "name": "stdout",
     "output_type": "stream",
     "text": [
      "Dot Product: \n",
      "A = \n",
      "[[1 2 3]\n",
      " [4 5 6]]\n",
      "B = \n",
      "[[ 7  8]\n",
      " [ 9 10]\n",
      " [11 12]]\n",
      "\n",
      "A · B = \n",
      "[[ 58  64]\n",
      " [139 154]]\n"
     ]
    }
   ],
   "source": [
    "matrix1 = np.arange(1, 7).reshape((2, 3))\n",
    "matrix2 = np.arange(7, 13).reshape((3, 2))\n",
    "dot_product = np.dot(matrix1, matrix2)  # Alternative: matrix1 @ matrix2\n",
    "\n",
    "print(f\"Dot Product: \\nA = \\n{matrix1}\\nB = \\n{matrix2}\\n\\nA · B = \\n{dot_product}\")"
   ]
  }
 ],
 "metadata": {
  "kernelspec": {
   "display_name": "01 Numpy",
   "language": "python",
   "name": "python3"
  },
  "language_info": {
   "codemirror_mode": {
    "name": "ipython",
    "version": 3
   },
   "file_extension": ".py",
   "mimetype": "text/x-python",
   "name": "python",
   "nbconvert_exporter": "python",
   "pygments_lexer": "ipython3",
   "version": "3.13.5"
  }
 },
 "nbformat": 4,
 "nbformat_minor": 5
}
