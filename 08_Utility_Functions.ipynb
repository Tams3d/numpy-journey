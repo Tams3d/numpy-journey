{
 "cells": [
  {
   "cell_type": "markdown",
   "id": "9261c29d",
   "metadata": {},
   "source": [
    "# Utility Functions\n"
   ]
  },
  {
   "cell_type": "code",
   "execution_count": 1,
   "id": "e8cd6a2b",
   "metadata": {},
   "outputs": [],
   "source": [
    "import numpy as np"
   ]
  },
  {
   "cell_type": "markdown",
   "id": "6e5f254e",
   "metadata": {},
   "source": [
    "### Diagonal Matrix of 1\n"
   ]
  },
  {
   "cell_type": "code",
   "execution_count": 2,
   "id": "d4665904",
   "metadata": {},
   "outputs": [
    {
     "name": "stdout",
     "output_type": "stream",
     "text": [
      "Diagonal Matrix:\n",
      " [[1. 0. 0.]\n",
      " [0. 1. 0.]\n",
      " [0. 0. 1.]\n",
      " [0. 0. 0.]]\n"
     ]
    }
   ],
   "source": [
    "diagonal = np.eye(4, 3)\n",
    "print(\"Diagonal Matrix:\\n\", diagonal)"
   ]
  },
  {
   "cell_type": "markdown",
   "id": "003e8d70",
   "metadata": {},
   "source": [
    "### Diagonal Matrix of custom values\n",
    "\n",
    "- Returns matrix of custom values along diagonals\n",
    "- If diagonal matrix is passed, it returns values at diagonals\n"
   ]
  },
  {
   "cell_type": "code",
   "execution_count": 3,
   "id": "6a8a235d",
   "metadata": {},
   "outputs": [
    {
     "name": "stdout",
     "output_type": "stream",
     "text": [
      "Custom Diagonal Matrix:\n",
      " [[10  0  0]\n",
      " [ 0 20  0]\n",
      " [ 0  0 30]]\n",
      "Diagonal Values:\n",
      " [10 20 30]\n"
     ]
    }
   ],
   "source": [
    "diagonal = np.diag([10, 20, 30])\n",
    "values = np.diag(diagonal)\n",
    "print(\"Custom Diagonal Matrix:\\n\", diagonal)\n",
    "print(\"Diagonal Values:\\n\", values)"
   ]
  },
  {
   "cell_type": "markdown",
   "id": "a8834d51",
   "metadata": {},
   "source": [
    "### Is In\n"
   ]
  },
  {
   "cell_type": "code",
   "execution_count": 4,
   "id": "42df8a3f",
   "metadata": {},
   "outputs": [
    {
     "name": "stdout",
     "output_type": "stream",
     "text": [
      "Array: [78 34 85 33 68 61 26 45 62 76 14 80 94 94 46 87 92 87 39 45]\n",
      "Check Items: [ 10  20  30  40  50  60  70  80  90 100]\n",
      "Available Items: [80]\n"
     ]
    }
   ],
   "source": [
    "array = np.random.randint(10, 100, 20)\n",
    "items = np.array([10, 20, 30, 40, 50, 60, 70, 80, 90, 100])\n",
    "\n",
    "available_items = array[np.isin(array, items)]\n",
    "\n",
    "print(\"Array:\", array)\n",
    "print(\"Check Items:\", items)\n",
    "print(\"Available Items:\", available_items)"
   ]
  },
  {
   "cell_type": "markdown",
   "id": "2dc2fa29",
   "metadata": {},
   "source": [
    "### Unique\n"
   ]
  },
  {
   "cell_type": "code",
   "execution_count": 5,
   "id": "a24b51c0",
   "metadata": {},
   "outputs": [
    {
     "name": "stdout",
     "output_type": "stream",
     "text": [
      "Array: [2 4 1 5 6 7 2 1 3 8 3 6 2 4]\n",
      "Array with Unique Elements: [1 2 3 4 5 6 7 8]\n"
     ]
    }
   ],
   "source": [
    "array = np.array([2, 4, 1, 5, 6, 7, 2, 1, 3, 8, 3, 6, 2, 4])\n",
    "\n",
    "print(\"Array:\", array)\n",
    "print(\"Array with Unique Elements:\", np.unique(array))"
   ]
  },
  {
   "cell_type": "markdown",
   "id": "21843560",
   "metadata": {},
   "source": [
    "### Clip\n"
   ]
  },
  {
   "cell_type": "code",
   "execution_count": 6,
   "id": "e6dfc9af",
   "metadata": {},
   "outputs": [
    {
     "name": "stdout",
     "output_type": "stream",
     "text": [
      "Array: [44 28 55 19  2 22 18 38 81 52]\n",
      "Clipped Array: [44 28 50 19 10 22 18 38 50 50]\n"
     ]
    }
   ],
   "source": [
    "array = np.random.randint(1, 100, 10)\n",
    "clipped_array = np.clip(array, 10, 50)  # <array, min value,max value>\n",
    "\n",
    "print(\"Array:\", array)\n",
    "print(\"Clipped Array:\", clipped_array)"
   ]
  },
  {
   "cell_type": "markdown",
   "id": "5c33542e",
   "metadata": {},
   "source": [
    "### Index of 1D array in n dimensional array\n"
   ]
  },
  {
   "cell_type": "code",
   "execution_count": 7,
   "id": "5338304b",
   "metadata": {},
   "outputs": [
    {
     "name": "stdout",
     "output_type": "stream",
     "text": [
      "Array:\n",
      " [[[87 43 71]\n",
      "  [25 10 33]\n",
      "  [26 83 67]]\n",
      "\n",
      " [[50 95 19]\n",
      "  [71 52 53]\n",
      "  [98 63 79]]\n",
      "\n",
      " [[64 20 94]\n",
      "  [23 53 62]\n",
      "  [11 39 64]]]\n",
      "\n",
      "Location of index 16 in shape (3, 3, 3): (1, 2, 1)\n"
     ]
    }
   ],
   "source": [
    "import numpy as np\n",
    "\n",
    "array = np.random.randint(10, 99, (3, 3, 3))\n",
    "index = 16\n",
    "location = tuple(map(int, np.unravel_index(index, array.shape)))\n",
    "\n",
    "print(\"Array:\\n\", array)\n",
    "print(f\"\\nLocation of index {index} in shape {array.shape}: {location}\")"
   ]
  },
  {
   "cell_type": "markdown",
   "id": "b66c1d7a",
   "metadata": {},
   "source": [
    "### Expanding Dimensions\n"
   ]
  },
  {
   "cell_type": "code",
   "execution_count": 8,
   "id": "475b7ccb",
   "metadata": {},
   "outputs": [
    {
     "name": "stdout",
     "output_type": "stream",
     "text": [
      "Array: [1 2 3 4 5]\n",
      "Shape: (5,)\n",
      "Dimension: 1\n",
      "\n",
      "Expanded Array (axis = 0):\n",
      " [[1 2 3 4 5]]\n",
      "Shape: (1, 5)\n",
      "Dimension: 2\n",
      "\n",
      "Expanded Array (axis = 1):\n",
      " [[1]\n",
      " [2]\n",
      " [3]\n",
      " [4]\n",
      " [5]]\n",
      "Shape: (5, 1)\n",
      "Dimension: 2\n"
     ]
    }
   ],
   "source": [
    "c = np.arange(1, 6)\n",
    "print(\"Array:\", c)\n",
    "print(\"Shape:\", c.shape)\n",
    "print(\"Dimension:\", c.ndim)\n",
    "\n",
    "c_2D = np.expand_dims(c, axis=0)\n",
    "print(\"\\nExpanded Array (axis = 0):\\n\", c_2D)\n",
    "print(\"Shape:\", c_2D.shape)\n",
    "print(\"Dimension:\", c_2D.ndim)\n",
    "\n",
    "c_3D = np.expand_dims(c, axis=1)\n",
    "print(\"\\nExpanded Array (axis = 1):\\n\", c_3D)\n",
    "print(\"Shape:\", c_3D.shape)\n",
    "print(\"Dimension:\", c_3D.ndim)"
   ]
  },
  {
   "cell_type": "markdown",
   "id": "8e8dbe47",
   "metadata": {},
   "source": [
    "## Argument Functions\n"
   ]
  },
  {
   "cell_type": "markdown",
   "id": "f40e558b",
   "metadata": {},
   "source": [
    "### Index of Maximum and Minimum value\n",
    "\n",
    "- np.argmin()\n",
    "- np.argmax()\n"
   ]
  },
  {
   "cell_type": "code",
   "execution_count": 9,
   "id": "e404aa49",
   "metadata": {},
   "outputs": [
    {
     "name": "stdout",
     "output_type": "stream",
     "text": [
      "Array: [9 7 2 2 9 1 2 8 1 8]\n",
      "Index: [0 1 2 3 4 5 6 7 8 9]\n",
      "\n",
      "Maximum Value: 9\n",
      "Position: 0\n",
      "\n",
      "Minimum Value: 1\n",
      "Position: 5\n"
     ]
    }
   ],
   "source": [
    "a = np.random.randint(1, 10, 10)\n",
    "\n",
    "print(\"Array:\", a)\n",
    "print(\"Index:\", np.arange(a.size))\n",
    "\n",
    "print(\"\\nMaximum Value:\", np.max(a))\n",
    "print(\"Position:\", np.argmax(a))\n",
    "\n",
    "print(\"\\nMinimum Value:\", np.min(a))\n",
    "print(\"Position:\", np.argmin(a))"
   ]
  },
  {
   "cell_type": "code",
   "execution_count": 10,
   "id": "cedb2baf",
   "metadata": {},
   "outputs": [
    {
     "name": "stdout",
     "output_type": "stream",
     "text": [
      "Array:\n",
      " [[3 4 3]\n",
      " [9 7 8]\n",
      " [9 9 7]]\n",
      "Index:\n",
      " [[0 1 2]\n",
      " [3 4 5]\n",
      " [6 7 8]]\n",
      "\n",
      "Maximum Value in Array: 9\n",
      "Index: 3\n",
      "\n",
      "Minimum Value in Array: 3\n",
      "Index: 0\n",
      "\n",
      "Maximum Value column-wise: [9 9 8]\n",
      "Row Index: [1 2 1]\n",
      "\n",
      "Minimum Value row-wise: [3 7 7]\n",
      "Column Index: [0 1 2]\n"
     ]
    }
   ],
   "source": [
    "b = np.random.randint(1, 10, 9).reshape(3, 3)\n",
    "\n",
    "print(\"Array:\\n\", b)\n",
    "print(\"Index:\\n\", np.arange(b.size).reshape(b.shape))\n",
    "\n",
    "print(\"\\nMaximum Value in Array:\", np.max(b))\n",
    "print(\"Index:\", np.argmax(b))\n",
    "\n",
    "print(\"\\nMinimum Value in Array:\", np.min(b))\n",
    "print(\"Index:\", np.argmin(b))\n",
    "\n",
    "print(\"\\nMaximum Value column-wise:\", np.max(b, axis=0))\n",
    "print(\"Row Index:\", np.argmax(b, axis=0))\n",
    "\n",
    "print(\"\\nMinimum Value row-wise:\", np.min(b, axis=1))\n",
    "print(\"Column Index:\", np.argmin(b, axis=1))"
   ]
  },
  {
   "cell_type": "code",
   "execution_count": 11,
   "id": "8ab21931",
   "metadata": {},
   "outputs": [
    {
     "name": "stdout",
     "output_type": "stream",
     "text": [
      "Array: [6 9 7 3 6 6 1 5 5 9]\n",
      "Index: [0 1 2 3 4 5 6 7 8 9]\n",
      "\n",
      "Maximum Value: 9\n",
      "Position: 1\n",
      "\n",
      "Minimum Value: 1\n",
      "Position: 6\n"
     ]
    }
   ],
   "source": [
    "a = np.random.randint(1, 10, 10)\n",
    "\n",
    "print(\"Array:\", a)\n",
    "print(\"Index:\", np.arange(a.size))\n",
    "\n",
    "print(\"\\nMaximum Value:\", np.max(a))\n",
    "print(\"Position:\", np.argmax(a))\n",
    "\n",
    "print(\"\\nMinimum Value:\", np.min(a))\n",
    "print(\"Position:\", np.argmin(a))"
   ]
  },
  {
   "cell_type": "code",
   "execution_count": 12,
   "id": "5b2e5cf4",
   "metadata": {},
   "outputs": [
    {
     "name": "stdout",
     "output_type": "stream",
     "text": [
      "Array:\n",
      " [[7 9 4]\n",
      " [6 9 5]\n",
      " [5 5 1]]\n",
      "Index:\n",
      " [[0 1 2]\n",
      " [3 4 5]\n",
      " [6 7 8]]\n",
      "\n",
      "Maximum Value in Array: 9\n",
      "Index: 1\n",
      "\n",
      "Minimum Value in Array: 1\n",
      "Index: 8\n",
      "\n",
      "Maximum Value column-wise: [7 9 5]\n",
      "Row Index: [0 0 1]\n",
      "\n",
      "Minimum Value row-wise: [4 5 1]\n",
      "Column Index: [2 2 2]\n"
     ]
    }
   ],
   "source": [
    "b = np.random.randint(1, 10, 9).reshape(3, 3)\n",
    "\n",
    "print(\"Array:\\n\", b)\n",
    "print(\"Index:\\n\", np.arange(b.size).reshape(b.shape))\n",
    "\n",
    "print(\"\\nMaximum Value in Array:\", np.max(b))\n",
    "print(\"Index:\", np.argmax(b))\n",
    "\n",
    "print(\"\\nMinimum Value in Array:\", np.min(b))\n",
    "print(\"Index:\", np.argmin(b))\n",
    "\n",
    "print(\"\\nMaximum Value column-wise:\", np.max(b, axis=0))\n",
    "print(\"Row Index:\", np.argmax(b, axis=0))\n",
    "\n",
    "print(\"\\nMinimum Value row-wise:\", np.min(b, axis=1))\n",
    "print(\"Column Index:\", np.argmin(b, axis=1))"
   ]
  },
  {
   "cell_type": "markdown",
   "id": "fab72162",
   "metadata": {},
   "source": [
    "### Index of elements Sorted-wise\n",
    "\n",
    "- np.argsort()\n"
   ]
  },
  {
   "cell_type": "code",
   "execution_count": 13,
   "id": "f2ab11ca",
   "metadata": {},
   "outputs": [
    {
     "name": "stdout",
     "output_type": "stream",
     "text": [
      "Array: [12 31 44 38 32 38]\n",
      "Indices of Sorted: [0 1 4 3 5 2]\n",
      "Sorted Array: [12 31 32 38 38 44]\n"
     ]
    }
   ],
   "source": [
    "array = np.random.randint(1, 50, 6)\n",
    "indices = np.argsort(array)\n",
    "print(\"Array:\", array)\n",
    "print(\"Indices of Sorted:\", indices)\n",
    "print(\"Sorted Array:\", array[indices])"
   ]
  },
  {
   "cell_type": "markdown",
   "id": "7e3074ee",
   "metadata": {},
   "source": [
    "## Trace\n",
    "\n",
    "- Returns sum of main diagonal\n"
   ]
  },
  {
   "cell_type": "code",
   "execution_count": 14,
   "id": "a400dd46",
   "metadata": {},
   "outputs": [
    {
     "name": "stdout",
     "output_type": "stream",
     "text": [
      "Array:\n",
      " [[12 31 44]\n",
      " [38 32 38]]\n",
      "Trace: 44\n"
     ]
    }
   ],
   "source": [
    "array = array.reshape((2, 3))\n",
    "trace = np.trace(array)\n",
    "\n",
    "print(\"Array:\\n\", array)\n",
    "print(\"Trace:\", trace)"
   ]
  },
  {
   "cell_type": "markdown",
   "id": "2abee721",
   "metadata": {},
   "source": [
    "## Repeating\n"
   ]
  },
  {
   "cell_type": "markdown",
   "id": "7c6ab568",
   "metadata": {},
   "source": [
    "### Repeat\n",
    "\n",
    "- Returns array with each element repeated `n` times\n"
   ]
  },
  {
   "cell_type": "code",
   "execution_count": 15,
   "id": "e64f1515",
   "metadata": {},
   "outputs": [
    {
     "name": "stdout",
     "output_type": "stream",
     "text": [
      "Array: [0 1 2]\n",
      "Array elements repeated 3 times: [0 0 0 1 1 1 2 2 2]\n"
     ]
    }
   ],
   "source": [
    "array = np.arange(3)\n",
    "repeated = np.repeat(array, 3)\n",
    "\n",
    "print(\"Array:\", array)\n",
    "print(\"Array elements repeated 3 times:\", repeated)"
   ]
  },
  {
   "cell_type": "markdown",
   "id": "47506206",
   "metadata": {},
   "source": [
    "### Tile\n",
    "\n",
    "- Returns entire array repeated `n` times\n"
   ]
  },
  {
   "cell_type": "code",
   "execution_count": 16,
   "id": "d6ed2c61",
   "metadata": {},
   "outputs": [
    {
     "name": "stdout",
     "output_type": "stream",
     "text": [
      "Array: [0 1 2]\n",
      "Array repeated 3 times: [0 1 2 0 1 2 0 1 2]\n"
     ]
    }
   ],
   "source": [
    "array = np.arange(3)\n",
    "tiled = np.tile(array, 3)\n",
    "\n",
    "print(\"Array:\", array)\n",
    "print(\"Array repeated 3 times:\", tiled)"
   ]
  }
 ],
 "metadata": {
  "kernelspec": {
   "display_name": "01 Numpy",
   "language": "python",
   "name": "python3"
  },
  "language_info": {
   "codemirror_mode": {
    "name": "ipython",
    "version": 3
   },
   "file_extension": ".py",
   "mimetype": "text/x-python",
   "name": "python",
   "nbconvert_exporter": "python",
   "pygments_lexer": "ipython3",
   "version": "3.13.5"
  }
 },
 "nbformat": 4,
 "nbformat_minor": 5
}
