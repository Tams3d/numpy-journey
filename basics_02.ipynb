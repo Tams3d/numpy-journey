{
 "cells": [
  {
   "cell_type": "markdown",
   "id": "68dd2877",
   "metadata": {},
   "source": [
    "# Numpy Array Operations:\n"
   ]
  },
  {
   "cell_type": "code",
   "execution_count": 71,
   "id": "eab8810d",
   "metadata": {},
   "outputs": [],
   "source": [
    "import numpy as np"
   ]
  },
  {
   "cell_type": "markdown",
   "id": "c4466981",
   "metadata": {},
   "source": [
    "#### Slicing:\n"
   ]
  },
  {
   "cell_type": "code",
   "execution_count": 72,
   "id": "df31d2c6",
   "metadata": {},
   "outputs": [
    {
     "name": "stdout",
     "output_type": "stream",
     "text": [
      "Array: [ 1  2  3  4  5  6  7  8  9 10]\n",
      "Particular Element: 6\n",
      "Range of Elements: [3 4 5 6 7 8 9]\n",
      "Range of Elements with step: [3 5 7 9]\n"
     ]
    }
   ],
   "source": [
    "array = np.arange(1, 11)\n",
    "print(\"Array:\", array)\n",
    "print(\"Particular Element:\", array[5])\n",
    "print(\"Range of Elements:\", array[2:9])\n",
    "print(\"Range of Elements with step:\", array[2:9:2])"
   ]
  },
  {
   "cell_type": "code",
   "execution_count": 73,
   "id": "589e9426",
   "metadata": {},
   "outputs": [
    {
     "name": "stdout",
     "output_type": "stream",
     "text": [
      "Particular Element: 2\n",
      "Entire Row: [4 5 6]\n",
      "Entire Column: [2 5 8]\n"
     ]
    }
   ],
   "source": [
    "# fmt:off\n",
    "array2D = np.array(\n",
    "  [\n",
    "    [1,2,3],\n",
    "    [4,5,6],\n",
    "    [7,8,9]\n",
    "  ]\n",
    ")\n",
    "print(\"Particular Element:\",array2D[0,1])\n",
    "print(\"Entire Row:\",array2D[1])\n",
    "print(\"Entire Column:\",array2D[:,1])"
   ]
  },
  {
   "cell_type": "markdown",
   "id": "1dae81b4",
   "metadata": {},
   "source": [
    "##### Sorting:\n"
   ]
  },
  {
   "cell_type": "code",
   "execution_count": 74,
   "id": "953df70e",
   "metadata": {},
   "outputs": [
    {
     "name": "stdout",
     "output_type": "stream",
     "text": [
      "Unsorted Array: [ 5  8  6  9  3  7 10 12 56 97 51]\n",
      "Sorted Array: [ 3  5  6  7  8  9 10 12 51 56 97]\n"
     ]
    }
   ],
   "source": [
    "unsorted = np.array([5, 8, 6, 9, 3, 7, 10, 12, 56, 97, 51])\n",
    "print(\"Unsorted Array:\", unsorted)\n",
    "print(\"Sorted Array:\", np.sort(unsorted))"
   ]
  },
  {
   "cell_type": "code",
   "execution_count": 75,
   "id": "c335dd37",
   "metadata": {},
   "outputs": [
    {
     "name": "stdout",
     "output_type": "stream",
     "text": [
      "Unsorted Matrix:\n",
      " [[4 6]\n",
      " [7 2]\n",
      " [9 5]]\n",
      "Sort Matrix by Column:\n",
      " [[4 2]\n",
      " [7 5]\n",
      " [9 6]]\n",
      "Sort Matrix by Row:\n",
      " [[4 6]\n",
      " [2 7]\n",
      " [5 9]]\n"
     ]
    }
   ],
   "source": [
    "# fmt:off\n",
    "unsorted2D = np.array(\n",
    "  [\n",
    "    [4,6],\n",
    "    [7,2],\n",
    "    [9,5],\n",
    "  ]\n",
    ")\n",
    "print(\"Unsorted Matrix:\\n\", unsorted2D)\n",
    "print(\"Sort Matrix by Column:\\n\", np.sort(unsorted2D, axis=0))\n",
    "print(\"Sort Matrix by Row:\\n\", np.sort(unsorted2D, axis=1))"
   ]
  },
  {
   "cell_type": "markdown",
   "id": "45480c7e",
   "metadata": {},
   "source": [
    "### Filter:\n"
   ]
  },
  {
   "cell_type": "code",
   "execution_count": 76,
   "id": "1ec253ba",
   "metadata": {},
   "outputs": [
    {
     "name": "stdout",
     "output_type": "stream",
     "text": [
      "Even Numbers: [ 2  4  6  8 10]\n"
     ]
    }
   ],
   "source": [
    "numbers = np.arange(1, 11)\n",
    "even_numbers = numbers[numbers % 2 == 0]\n",
    "print(\"Even Numbers:\", even_numbers)"
   ]
  },
  {
   "cell_type": "markdown",
   "id": "d8b80617",
   "metadata": {},
   "source": [
    "#### Mask:\n"
   ]
  },
  {
   "cell_type": "code",
   "execution_count": 77,
   "id": "eb160879",
   "metadata": {},
   "outputs": [
    {
     "name": "stdout",
     "output_type": "stream",
     "text": [
      "Numbers greater than 5: [ 6  7  8  9 10]\n"
     ]
    }
   ],
   "source": [
    "mask = numbers > 5\n",
    "print(\"Numbers greater than 5:\", numbers[mask])"
   ]
  },
  {
   "cell_type": "markdown",
   "id": "8ed4c737",
   "metadata": {},
   "source": [
    "#### Indexing:\n"
   ]
  },
  {
   "cell_type": "code",
   "execution_count": 78,
   "id": "55690116",
   "metadata": {},
   "outputs": [
    {
     "name": "stdout",
     "output_type": "stream",
     "text": [
      "[1 4 7 8]\n"
     ]
    }
   ],
   "source": [
    "indices = [0, 3, 6, 7]\n",
    "print(numbers[indices])\n"
   ]
  },
  {
   "cell_type": "markdown",
   "id": "488dda56",
   "metadata": {},
   "source": [
    "#### Where - returns indices of array which satisfy condition:\n"
   ]
  },
  {
   "cell_type": "code",
   "execution_count": 79,
   "id": "522ac1e7",
   "metadata": {},
   "outputs": [
    {
     "name": "stdout",
     "output_type": "stream",
     "text": [
      "Numbers: [ 1  2  3  4  5  6  7  8  9 10]\n",
      "Where result (numbers > 5): (array([5, 6, 7, 8, 9]),)\n",
      "Greater than 5: [ 6  7  8  9 10]\n",
      "Condition Array: [  2   4   6   8  10  60  70  80  90 100]\n"
     ]
    }
   ],
   "source": [
    "where_result = np.where(numbers > 5)  # <condition>\n",
    "print(\"Numbers:\", numbers)\n",
    "print(\"Where result (numbers > 5):\", where_result)\n",
    "print(\"Greater than 5:\", numbers[where_result])\n",
    "\n",
    "condition_array = np.where(\n",
    "    numbers > 5, numbers * 10, numbers * 2\n",
    ")  # <condition, True operation, False operation>\n",
    "\n",
    "print(\"Condition Array:\", condition_array)\n",
    "\n",
    "# np.where() is similar to\n",
    "# for index, value in enumerate(numbers):\n",
    "#     if value > 5: (condition)\n",
    "#         numbers[index] = value*10 (True operation)\n",
    "#     else:\n",
    "#         numbers[index] = value*2 (False operation)\n"
   ]
  },
  {
   "cell_type": "markdown",
   "id": "96d92f57",
   "metadata": {},
   "source": [
    "#### Concatenation\n"
   ]
  },
  {
   "cell_type": "code",
   "execution_count": 80,
   "id": "a6933a73",
   "metadata": {},
   "outputs": [
    {
     "name": "stdout",
     "output_type": "stream",
     "text": [
      "Array 1: [0 1 2 3 4 5]\n",
      "Array 2: [ 6  7  8  9 10]\n",
      "Combined Array: [ 0  1  2  3  4  5  6  7  8  9 10]\n"
     ]
    }
   ],
   "source": [
    "array1 = np.arange(0, 6)\n",
    "array2 = np.arange(6, 11)\n",
    "\n",
    "combined = np.concatenate((array1, array2))\n",
    "\n",
    "print(\"Array 1:\", array1)\n",
    "print(\"Array 2:\", array2)\n",
    "print(\"Combined Array:\", combined)"
   ]
  },
  {
   "cell_type": "markdown",
   "id": "592fb090",
   "metadata": {},
   "source": [
    "## Adding new Row and Column\n",
    "\n",
    "$$\n",
    "\\begin{array}{ccc}\n",
    "\\begin{bmatrix}\n",
    "1 & 2 \\\\\n",
    "3 & 4\n",
    "\\end{bmatrix}\n",
    "&\n",
    "+\n",
    "&\n",
    "\\begin{bmatrix}\n",
    "\\textcolor{yellow}{5} & \\textcolor{yellow}{6}\n",
    "\\end{bmatrix}\n",
    "\\\\[1em]\n",
    "\\text{Original} & & \\text{New Row}\n",
    "\\end{array}\n",
    "\\quad\n",
    "\\xrightarrow{\\text{Vertical Stack}}\n",
    "\\quad\n",
    "\\begin{array}{c}\n",
    "\\begin{bmatrix}\n",
    "1 & 2 \\\\\n",
    "3 & 4 \\\\\n",
    "\\textcolor{yellow}{5} & \\textcolor{yellow}{6}\n",
    "\\end{bmatrix} \\\\[1.5em]\n",
    "\\text{New Matrix}\n",
    "\\end{array}\n",
    "\n",
    "\\\\[3em]\n",
    "\n",
    "\\begin{array}{ccc}\n",
    "\\begin{bmatrix}\n",
    "1 & 2 \\\\\n",
    "3 & 4\n",
    "\\end{bmatrix}\n",
    "&\n",
    "+\n",
    "&\n",
    "\\begin{bmatrix}\n",
    "\\textcolor{cyan}{7} \\\\\n",
    "\\textcolor{cyan}{8}\n",
    "\\end{bmatrix}\n",
    "\\\\[1em]\n",
    "\\text{Original} & & \\text{New Column}\n",
    "\\end{array}\n",
    "\\quad\n",
    "\\xrightarrow{\\text{Horizontal Stack}}\n",
    "\\quad\n",
    "\\begin{array}{c}\n",
    "\\begin{bmatrix}\n",
    "1 & 2 & \\textcolor{cyan}{7} \\\\\n",
    "3 & 4 & \\textcolor{cyan}{8}\n",
    "\\end{bmatrix} \\\\[1.5em]\n",
    "\\text{New Matrix}\n",
    "\\end{array}\n",
    "$$\n"
   ]
  },
  {
   "cell_type": "code",
   "execution_count": 81,
   "id": "62478c45",
   "metadata": {},
   "outputs": [
    {
     "name": "stdout",
     "output_type": "stream",
     "text": [
      "Original:\n",
      " [[1 2]\n",
      " [3 4]]\n",
      "\n",
      "New Row:\n",
      " [[5 6]]\n",
      "Matrix with new Row:\n",
      " [[1 2]\n",
      " [3 4]\n",
      " [5 6]]\n",
      "\n",
      "New Column:\n",
      " [[7]\n",
      " [8]]\n",
      "\n",
      "Matrix with new Column:\n",
      " [[1 2 7]\n",
      " [3 4 8]]\n"
     ]
    }
   ],
   "source": [
    "# fmt:off\n",
    "original = np.array(\n",
    "  [\n",
    "    [1,2],\n",
    "    [3,4]\n",
    "  ]\n",
    ")\n",
    "\n",
    "new_row = np.array(\n",
    "  [\n",
    "    [5,6]\n",
    "  ]\n",
    ")\n",
    "\n",
    "new_column = np.array(\n",
    "  [\n",
    "    [7],\n",
    "    [8]\n",
    "  ]\n",
    ")\n",
    "\n",
    "new_row_matrix = np.vstack((original, new_row))\n",
    "new_column_matrix = np.hstack((original, new_column))\n",
    "\n",
    "print(\"Original:\\n\", original)\n",
    "\n",
    "print(\"\\nNew Row:\\n\", new_row)\n",
    "print(\"Matrix with new Row:\\n\", new_row_matrix)\n",
    "\n",
    "print(\"\\nNew Column:\\n\", new_column)\n",
    "print(\"\\nMatrix with new Column:\\n\", new_column_matrix)"
   ]
  },
  {
   "cell_type": "markdown",
   "id": "9e3dfe9d",
   "metadata": {},
   "source": [
    "### Deleting Elements\n",
    "\n",
    "- Does not delete elements from original array\n",
    "- Returns new array after deleting elements\n"
   ]
  },
  {
   "cell_type": "code",
   "execution_count": 82,
   "id": "e65962fd",
   "metadata": {},
   "outputs": [
    {
     "name": "stdout",
     "output_type": "stream",
     "text": [
      "Before Deleting: [0 1 2 3 4 5]\n",
      "Deleting single element: [0 1 2 4 5]\n",
      "Deleting multiple elements: [0 2 5]\n",
      "After Deleting: [0 1 2 3 4 5]\n"
     ]
    }
   ],
   "source": [
    "array = np.arange(6)\n",
    "delete_single = np.delete(array, 3)\n",
    "delete_multiple = np.delete(array, (1, 3, 4))\n",
    "print(\"Before Deleting:\", array)\n",
    "print(\"Deleting single element:\", delete_single)\n",
    "print(\"Deleting multiple elements:\", delete_multiple)\n",
    "print(\"After Deleting:\", array)"
   ]
  }
 ],
 "metadata": {
  "kernelspec": {
   "display_name": ".venv",
   "language": "python",
   "name": "python3"
  },
  "language_info": {
   "codemirror_mode": {
    "name": "ipython",
    "version": 3
   },
   "file_extension": ".py",
   "mimetype": "text/x-python",
   "name": "python",
   "nbconvert_exporter": "python",
   "pygments_lexer": "ipython3",
   "version": "3.13.3"
  }
 },
 "nbformat": 4,
 "nbformat_minor": 5
}
