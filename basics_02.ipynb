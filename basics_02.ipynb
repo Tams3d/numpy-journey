{
 "cells": [
  {
   "cell_type": "markdown",
   "id": "68dd2877",
   "metadata": {},
   "source": [
    "# Numpy Array Operations:\n"
   ]
  },
  {
   "cell_type": "code",
   "execution_count": 6,
   "id": "eab8810d",
   "metadata": {},
   "outputs": [],
   "source": [
    "import numpy as np"
   ]
  },
  {
   "cell_type": "markdown",
   "id": "c4466981",
   "metadata": {},
   "source": [
    "#### Slicing:\n"
   ]
  },
  {
   "cell_type": "code",
   "execution_count": 7,
   "id": "df31d2c6",
   "metadata": {},
   "outputs": [
    {
     "name": "stdout",
     "output_type": "stream",
     "text": [
      "Array: [ 1  2  3  4  5  6  7  8  9 10]\n",
      "Particular Element: 6\n",
      "Range of Elements: [3 4 5 6 7 8 9]\n",
      "Range of Elements with step: [3 5 7 9]\n"
     ]
    }
   ],
   "source": [
    "array = np.arange(1, 11)\n",
    "print(\"Array:\", array)\n",
    "print(\"Particular Element:\", array[5])\n",
    "print(\"Range of Elements:\", array[2:9])\n",
    "print(\"Range of Elements with step:\", array[2:9:2])"
   ]
  },
  {
   "cell_type": "code",
   "execution_count": 14,
   "id": "589e9426",
   "metadata": {},
   "outputs": [
    {
     "name": "stdout",
     "output_type": "stream",
     "text": [
      "Particular Element: 2\n",
      "Entire Row: [4 5 6]\n",
      "Entire Column: [2 5 8]\n"
     ]
    }
   ],
   "source": [
    "# fmt:off\n",
    "array2D = np.array(\n",
    "  [\n",
    "    [1,2,3],\n",
    "    [4,5,6],\n",
    "    [7,8,9]\n",
    "  ]\n",
    ")\n",
    "print(\"Particular Element:\",array2D[0,1])\n",
    "print(\"Entire Row:\",array2D[1])\n",
    "print(\"Entire Column:\",array2D[:,1])"
   ]
  }
 ],
 "metadata": {
  "kernelspec": {
   "display_name": ".venv",
   "language": "python",
   "name": "python3"
  },
  "language_info": {
   "codemirror_mode": {
    "name": "ipython",
    "version": 3
   },
   "file_extension": ".py",
   "mimetype": "text/x-python",
   "name": "python",
   "nbconvert_exporter": "python",
   "pygments_lexer": "ipython3",
   "version": "3.13.3"
  }
 },
 "nbformat": 4,
 "nbformat_minor": 5
}
