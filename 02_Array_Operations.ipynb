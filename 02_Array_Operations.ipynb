{
 "cells": [
  {
   "cell_type": "markdown",
   "id": "d5951d56",
   "metadata": {},
   "source": [
    "# Array Operations\n"
   ]
  },
  {
   "cell_type": "code",
   "execution_count": 5,
   "id": "cf744250",
   "metadata": {},
   "outputs": [],
   "source": [
    "import numpy as np"
   ]
  },
  {
   "cell_type": "markdown",
   "id": "89399ef5",
   "metadata": {},
   "source": [
    "## Array Reshaping\n",
    "\n",
    "$$\n",
    "\\begin{array}{c}\n",
    "\\begin{bmatrix}\n",
    "1 & 2 & 3 & 4 & 5 & 6 & 7 & 8 & 9 & 10 & 11 & 12\n",
    "\\end{bmatrix} \\\\\n",
    "(1, 12) \\\\[1em]\n",
    "\\text{Original}\n",
    "\\end{array}\n",
    "\\quad\n",
    "\\xrightarrow{\\text{reshape} \\\\[1ex]}\n",
    "\\quad\n",
    "\\begin{array}{c}\n",
    "\\begin{bmatrix}\n",
    "1 & 2 & 3 & 4 \\\\\n",
    "5 & 6 & 7 & 8 \\\\\n",
    "9 & 10 & 11 & 12\n",
    "\\end{bmatrix} \\\\\n",
    "(3, 4) \\\\[1em]\n",
    "\\text{Reshaped Array}\n",
    "\\end{array}\n",
    "$$\n"
   ]
  },
  {
   "cell_type": "markdown",
   "id": "3500da20",
   "metadata": {},
   "source": [
    "### Flatten\n",
    "\n",
    "$$\n",
    "\\begin{array}{c}\n",
    "\\begin{bmatrix}\n",
    "1 & 2 & 3 & 4 \\\\\n",
    "5 & 6 & 7 & 8 \\\\\n",
    "9 & 10 & 11 & 12\n",
    "\\end{bmatrix} \\\\\n",
    "(3, 4) \\\\[1em]\n",
    "\\text{Reshaped Array}\n",
    "\\end{array}\n",
    "\\quad\n",
    "\\xrightarrow{\\text{flatten}}\n",
    "\\quad\n",
    "\\begin{array}{c}\n",
    "\\begin{bmatrix}\n",
    "1 & 2 & 3 & 4 & 5 & 6 & 7 & 8 & 9 & 10 & 11 & 12\n",
    "\\end{bmatrix} \\\\\n",
    "(1, 12) \\\\[1em]\n",
    "\\text{Flattened Array}\n",
    "\\end{array}\n",
    "$$\n"
   ]
  },
  {
   "cell_type": "code",
   "execution_count": 6,
   "id": "f8924fa3",
   "metadata": {},
   "outputs": [
    {
     "name": "stdout",
     "output_type": "stream",
     "text": [
      "Original Array:\n",
      " [ 1  2  3  4  5  6  7  8  9 10 11 12]\n",
      "\n",
      "Reshaped Array:\n",
      " [[ 1  2  3  4]\n",
      " [ 5  6  7  8]\n",
      " [ 9 10 11 12]]\n",
      "\n",
      "Flattened Array:\n",
      " [ 1  2  3  4  5  6  7  8  9 10 11 12]\n"
     ]
    }
   ],
   "source": [
    "array = np.arange(1, 13)\n",
    "print(\"Original Array:\\n\", array)\n",
    "\n",
    "reshaped = array.reshape((3, 4))\n",
    "print(\"\\nReshaped Array:\\n\", reshaped)\n",
    "\n",
    "flattened = reshaped.flatten()\n",
    "print(\"\\nFlattened Array:\\n\", flattened)"
   ]
  },
  {
   "cell_type": "markdown",
   "id": "c48cfcae",
   "metadata": {},
   "source": [
    "### Reshaped Array and Ravelled View modifications:\n",
    "\n",
    "$$\n",
    "\\begin{array}{c}\n",
    "\\begin{bmatrix}\n",
    "\\color{yellow}{100} & 2 & 3 & 4 \\\\\n",
    "5 & 6 & 7 & 8 \\\\\n",
    "9 & 10 & 11 & 12\n",
    "\\end{bmatrix} \\\\\n",
    "(3, 4) \\\\[1em]\n",
    "\\text{Reshaped Array}\n",
    "\\end{array}\n",
    "\\quad\n",
    "\\xleftrightarrow{\\text{reflects}}\n",
    "\\quad\n",
    "\\begin{array}{c}\n",
    "\\begin{bmatrix}\n",
    "\\color{yellow}{100} & 2 & 3 & 4 & 5 & 6 & 7 & 8 & 9 & 10 & 11 & 12\n",
    "\\end{bmatrix} \\\\\n",
    "(1,12) \\\\[1em]\n",
    "\\text{Ravelled View}\n",
    "\\end{array}\n",
    "$$\n"
   ]
  },
  {
   "cell_type": "code",
   "execution_count": 7,
   "id": "4109e092",
   "metadata": {},
   "outputs": [
    {
     "name": "stdout",
     "output_type": "stream",
     "text": [
      "Revelled View:\n",
      " [ 1  2  3  4  5  6  7  8  9 10 11 12]\n",
      "\n",
      "Modified Revelled:\n",
      " [100   2   3   4   5   6   7   8   9  10  11  12]\n",
      "Updated Reshaped:\n",
      " [[100   2   3   4]\n",
      " [  5   6   7   8]\n",
      " [  9  10  11  12]]\n",
      "\n",
      "Modified Reshaped:\n",
      " [[1000    2    3    4]\n",
      " [   5    6    7    8]\n",
      " [   9   10   11   12]]\n",
      "Updated Ravelled:\n",
      " [1000    2    3    4    5    6    7    8    9   10   11   12]\n"
     ]
    }
   ],
   "source": [
    "ravelled = reshaped.ravel()\n",
    "print(\"Revelled View:\\n\", ravelled)\n",
    "\n",
    "ravelled[0] = 100\n",
    "print(\"\\nModified Revelled:\\n\", ravelled)\n",
    "print(\"Updated Reshaped:\\n\", reshaped)\n",
    "\n",
    "reshaped[0, 0] = 1000\n",
    "print(\"\\nModified Reshaped:\\n\", reshaped)\n",
    "print(\"Updated Ravelled:\\n\", ravelled)"
   ]
  },
  {
   "cell_type": "markdown",
   "id": "b4ece149",
   "metadata": {},
   "source": [
    "## Transpose\n",
    "\n",
    "$$\n",
    "\\text{A} =\n",
    "\\begin{array}{c}\n",
    "\\begin{bmatrix}\n",
    "1 & 2 & 3 \\\\\n",
    "4 & 5 & 6 \\\\\n",
    "7 & 8 & 9\n",
    "\\end{bmatrix} \\\\[1.5em]\n",
    "\\text{Original}\n",
    "\\end{array}\n",
    "\\quad\n",
    "\\text{A}^T =\n",
    "\\begin{array}{c}\n",
    "\\begin{bmatrix}\n",
    "1 & 4 & 7 \\\\\n",
    "2 & 5 & 8 \\\\\n",
    "3 & 6 & 9\n",
    "\\end{bmatrix} \\\\[1.5em]\n",
    "\\text{Transposed}\n",
    "\\end{array}\n",
    "$$\n"
   ]
  },
  {
   "cell_type": "code",
   "execution_count": 8,
   "id": "a8b2ec0b",
   "metadata": {},
   "outputs": [
    {
     "name": "stdout",
     "output_type": "stream",
     "text": [
      "Original:\n",
      " [[1 2 3]\n",
      " [4 5 6]\n",
      " [7 8 9]]\n",
      "Transposed:\n",
      " [[1 4 7]\n",
      " [2 5 8]\n",
      " [3 6 9]]\n"
     ]
    }
   ],
   "source": [
    "matrix = np.arange(1, 10).reshape((3, 3))\n",
    "transposed = matrix.T  # Alternative: np.transpose(array)\n",
    "print(\"Original:\\n\", matrix)\n",
    "print(\"Transposed:\\n\", transposed)"
   ]
  },
  {
   "cell_type": "markdown",
   "id": "e7aa64a7",
   "metadata": {},
   "source": [
    "## Flip\n"
   ]
  },
  {
   "cell_type": "code",
   "execution_count": 13,
   "id": "51a7b369",
   "metadata": {},
   "outputs": [
    {
     "name": "stdout",
     "output_type": "stream",
     "text": [
      "Original Array:\n",
      " [[30 82]\n",
      " [26 17]\n",
      " [58 35]]\n",
      "\n",
      "Fully Flipped Array (all elements reversed):\n",
      " [[35 58]\n",
      " [17 26]\n",
      " [82 30]]\n",
      "\n",
      "Row-wise Flipped Array (rows reversed):\n",
      " [[58 35]\n",
      " [26 17]\n",
      " [30 82]]\n",
      "\n",
      "Column-wise Flipped Array (columns reversed):\n",
      " [[82 30]\n",
      " [17 26]\n",
      " [35 58]]\n"
     ]
    }
   ],
   "source": [
    "array = np.random.randint(10, 99, 6).reshape(3, 2)\n",
    "\n",
    "fully_flipped_array = np.flip(array)\n",
    "row_flipped_array = np.flip(array, axis=0)\n",
    "column_flipped_array = np.flip(array, axis=1)\n",
    "\n",
    "print(\"Original Array:\\n\", array)\n",
    "print(\"\\nFully Flipped Array (all elements reversed):\\n\", fully_flipped_array)\n",
    "print(\"\\nRow-wise Flipped Array (rows reversed):\\n\", row_flipped_array)\n",
    "print(\"\\nColumn-wise Flipped Array (columns reversed):\\n\", column_flipped_array)"
   ]
  }
 ],
 "metadata": {
  "kernelspec": {
   "display_name": ".venv",
   "language": "python",
   "name": "python3"
  },
  "language_info": {
   "codemirror_mode": {
    "name": "ipython",
    "version": 3
   },
   "file_extension": ".py",
   "mimetype": "text/x-python",
   "name": "python",
   "nbconvert_exporter": "python",
   "pygments_lexer": "ipython3",
   "version": "3.13.3"
  }
 },
 "nbformat": 4,
 "nbformat_minor": 5
}
