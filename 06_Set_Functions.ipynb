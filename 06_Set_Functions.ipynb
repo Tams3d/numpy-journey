{
 "cells": [
  {
   "cell_type": "markdown",
   "id": "4c6be2b4",
   "metadata": {},
   "source": [
    "# Set Functions\n"
   ]
  },
  {
   "cell_type": "code",
   "execution_count": 32,
   "id": "f12b8966",
   "metadata": {},
   "outputs": [],
   "source": [
    "import numpy as np\n",
    "\n",
    "setA = np.arange(0, 5)\n",
    "setB = np.arange(3, 8)"
   ]
  },
  {
   "cell_type": "markdown",
   "id": "2fcfb9c9",
   "metadata": {},
   "source": [
    "## Union\n"
   ]
  },
  {
   "cell_type": "code",
   "execution_count": 33,
   "id": "f1507b0c",
   "metadata": {},
   "outputs": [
    {
     "name": "stdout",
     "output_type": "stream",
     "text": [
      "Set A: [0 1 2 3 4]\n",
      "Set B: [3 4 5 6 7]\n",
      "Union (A U B): [0 1 2 3 4 5 6 7]\n"
     ]
    }
   ],
   "source": [
    "print(\"Set A:\", setA)\n",
    "print(\"Set B:\", setB)\n",
    "union_set = np.union1d(setA, setB)\n",
    "print(\"Union (A U B):\", union_set)"
   ]
  },
  {
   "cell_type": "markdown",
   "id": "5aa0ad31",
   "metadata": {},
   "source": [
    "## Intersection\n"
   ]
  },
  {
   "cell_type": "code",
   "execution_count": 34,
   "id": "0d4c4cb9",
   "metadata": {},
   "outputs": [
    {
     "name": "stdout",
     "output_type": "stream",
     "text": [
      "Set A: [0 1 2 3 4]\n",
      "Set B: [3 4 5 6 7]\n",
      "Intersection (A ∩ B): [3 4]\n"
     ]
    }
   ],
   "source": [
    "print(\"Set A:\", setA)\n",
    "print(\"Set B:\", setB)\n",
    "intersection_set = np.intersect1d(setA, setB)\n",
    "print(\"Intersection (A ∩ B):\", intersection_set)"
   ]
  },
  {
   "cell_type": "markdown",
   "id": "e46d74f0",
   "metadata": {},
   "source": [
    "## Difference\n"
   ]
  },
  {
   "cell_type": "code",
   "execution_count": 35,
   "id": "3a2842de",
   "metadata": {},
   "outputs": [
    {
     "name": "stdout",
     "output_type": "stream",
     "text": [
      "Set A: [0 1 2 3 4]\n",
      "Set B: [3 4 5 6 7]\n",
      "Difference (A - B): [0 1 2]\n",
      "Difference (B - A): [5 6 7]\n"
     ]
    }
   ],
   "source": [
    "print(\"Set A:\", setA)\n",
    "print(\"Set B:\", setB)\n",
    "diff_set1 = np.setdiff1d(setA, setB)\n",
    "diff_set2 = np.setdiff1d(setB, setA)\n",
    "print(\"Difference (A - B):\", diff_set1)\n",
    "print(\"Difference (B - A):\", diff_set2)"
   ]
  },
  {
   "cell_type": "markdown",
   "id": "6f846971",
   "metadata": {},
   "source": [
    "## Symmetric Difference\n"
   ]
  },
  {
   "cell_type": "code",
   "execution_count": 36,
   "id": "8bad1e92",
   "metadata": {},
   "outputs": [
    {
     "name": "stdout",
     "output_type": "stream",
     "text": [
      "Set A: [0 1 2 3 4]\n",
      "Set B: [3 4 5 6 7]\n",
      "Symmetric Difference (A △ B): [0 1 2 5 6 7]\n"
     ]
    }
   ],
   "source": [
    "print(\"Set A:\", setA)\n",
    "print(\"Set B:\", setB)\n",
    "sym_diff_set = np.setxor1d(setA, setB)\n",
    "print(\"Symmetric Difference (A △ B):\", sym_diff_set)"
   ]
  }
 ],
 "metadata": {
  "kernelspec": {
   "display_name": ".venv",
   "language": "python",
   "name": "python3"
  },
  "language_info": {
   "codemirror_mode": {
    "name": "ipython",
    "version": 3
   },
   "file_extension": ".py",
   "mimetype": "text/x-python",
   "name": "python",
   "nbconvert_exporter": "python",
   "pygments_lexer": "ipython3",
   "version": "3.13.3"
  }
 },
 "nbformat": 4,
 "nbformat_minor": 5
}
