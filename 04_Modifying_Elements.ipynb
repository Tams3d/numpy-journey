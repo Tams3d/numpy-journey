{
 "cells": [
  {
   "cell_type": "markdown",
   "id": "83710057",
   "metadata": {},
   "source": [
    "# Modifying Elements\n"
   ]
  },
  {
   "cell_type": "code",
   "execution_count": 1,
   "id": "6f812517",
   "metadata": {},
   "outputs": [],
   "source": [
    "import numpy as np"
   ]
  },
  {
   "cell_type": "markdown",
   "id": "831860cc",
   "metadata": {},
   "source": [
    "## Indexing and Slicing\n"
   ]
  },
  {
   "cell_type": "code",
   "execution_count": 2,
   "id": "ea8fdc80",
   "metadata": {},
   "outputs": [
    {
     "name": "stdout",
     "output_type": "stream",
     "text": [
      "Array: [ 1  2  3  4  5  6  7  8  9 10]\n",
      "Particular Element: 6\n",
      "Range of Elements: [3 4 5 6 7 8 9]\n",
      "Range of Elements with step: [3 5 7 9]\n"
     ]
    }
   ],
   "source": [
    "array = np.arange(1, 11)\n",
    "print(\"Array:\", array)\n",
    "print(\"Particular Element:\", array[5])\n",
    "print(\"Range of Elements:\", array[2:9])\n",
    "print(\"Range of Elements with step:\", array[2:9:2])"
   ]
  },
  {
   "cell_type": "code",
   "execution_count": 3,
   "id": "12c717d2",
   "metadata": {},
   "outputs": [
    {
     "name": "stdout",
     "output_type": "stream",
     "text": [
      "Particular Element: 2\n",
      "Entire Row: [4 5 6]\n",
      "Entire Column: [2 5 8]\n"
     ]
    }
   ],
   "source": [
    "# fmt:off\n",
    "array2D = np.array(\n",
    "  [\n",
    "    [1,2,3],\n",
    "    [4,5,6],\n",
    "    [7,8,9]\n",
    "  ]\n",
    ")\n",
    "print(\"Particular Element:\",array2D[0,1])\n",
    "print(\"Entire Row:\",array2D[1])\n",
    "print(\"Entire Column:\",array2D[:,1])"
   ]
  },
  {
   "cell_type": "code",
   "execution_count": 4,
   "id": "c402dc9e",
   "metadata": {},
   "outputs": [
    {
     "name": "stdout",
     "output_type": "stream",
     "text": [
      "3D Array:\n",
      " [[[ 1  2  3]\n",
      "  [ 4  5  6]\n",
      "  [ 7  8  9]]\n",
      "\n",
      " [[10 11 12]\n",
      "  [13 14 15]\n",
      "  [16 17 18]]\n",
      "\n",
      " [[19 20 21]\n",
      "  [22 23 24]\n",
      "  [25 26 27]]]\n",
      "\n",
      "Second 2D array:\n",
      " [[10 11 12]\n",
      " [13 14 15]\n",
      " [16 17 18]]\n",
      "\n",
      "First 2D array (3rd Row):\n",
      " [7 8 9]\n",
      "\n",
      "Third 2D array (1st Column):\n",
      " [19 22 25]\n",
      "\n",
      "3D Array (3rd Row):\n",
      " [[ 7  8  9]\n",
      " [16 17 18]\n",
      " [25 26 27]]\n",
      "\n",
      "First and Third 2D array (1st Row - 1st and 3rd Column):\n",
      " [[ 1  3]\n",
      " [19 21]]\n",
      "\n",
      "Last Column:\n",
      " [[ 3  6  9]\n",
      " [12 15 18]\n",
      " [21 24 27]]\n"
     ]
    }
   ],
   "source": [
    "array3D = np.arange(1, 28).reshape((3, 3, 3))\n",
    "print(\"3D Array:\\n\", array3D)\n",
    "print(\"\\nSecond 2D array:\\n\", array3D[1])\n",
    "print(\"\\nFirst 2D array (3rd Row):\\n\", array3D[0, 2])\n",
    "print(\"\\nThird 2D array (1st Column):\\n\", array3D[2, :, 0])\n",
    "print(\"\\n3D Array (3rd Row):\\n\", array3D[:, 2])\n",
    "print(\n",
    "    \"\\nFirst and Third 2D array (1st Row - 1st and 3rd Column):\\n\", array3D[::2, 0, ::2]\n",
    ")\n",
    "# ... is used as shorthand for multiple colons and commas - array3D[:,:,-1]\n",
    "print(\"\\nLast Column:\\n\", array3D[..., -1])"
   ]
  },
  {
   "cell_type": "markdown",
   "id": "f3fcb7b5",
   "metadata": {},
   "source": [
    "### Fancy Indexing\n"
   ]
  },
  {
   "cell_type": "code",
   "execution_count": 5,
   "id": "7fdfca6e",
   "metadata": {},
   "outputs": [
    {
     "name": "stdout",
     "output_type": "stream",
     "text": [
      "Matrix:\n",
      " [[ 1  2  3  4]\n",
      " [ 5  6  7  8]\n",
      " [ 9 10 11 12]\n",
      " [13 14 15 16]\n",
      " [17 18 19 20]\n",
      " [21 22 23 24]]\n",
      "Fancy Indexing:\n",
      " [[ 5  6  7  8]\n",
      " [ 1  2  3  4]\n",
      " [13 14 15 16]\n",
      " [17 18 19 20]]\n"
     ]
    }
   ],
   "source": [
    "matrix = np.arange(1, 25).reshape((6, 4))\n",
    "print(\"Matrix:\\n\", matrix)\n",
    "print(\"Fancy Indexing:\\n\", matrix[[1, 0, 3, 4]])"
   ]
  },
  {
   "cell_type": "markdown",
   "id": "6df34ff8",
   "metadata": {},
   "source": [
    "### Boolean Indexing\n"
   ]
  },
  {
   "cell_type": "code",
   "execution_count": 6,
   "id": "d3e5732a",
   "metadata": {},
   "outputs": [
    {
     "name": "stdout",
     "output_type": "stream",
     "text": [
      "Array:\n",
      " [[86 59 97]\n",
      " [39 84 70]\n",
      " [83 88 75]]\n",
      "\n",
      "Array > 45 (Mask):\n",
      " [[ True  True  True]\n",
      " [False  True  True]\n",
      " [ True  True  True]]\n",
      "\n",
      "Array with elements > 5:\n",
      " [86 59 97 84 70 83 88 75]\n"
     ]
    }
   ],
   "source": [
    "randint_array = np.random.randint(1, 100, (3, 3))\n",
    "print(\"Array:\\n\", randint_array)\n",
    "mask = randint_array > 45\n",
    "print(\"\\nArray > 45 (Mask):\\n\", mask)\n",
    "print(\n",
    "    \"\\nArray with elements > 5:\\n\", randint_array[mask]\n",
    ")  # Alternative: randint_array[randint_array > 45]"
   ]
  },
  {
   "cell_type": "code",
   "execution_count": 7,
   "id": "f3e01ace",
   "metadata": {},
   "outputs": [
    {
     "name": "stdout",
     "output_type": "stream",
     "text": [
      "Array: [27 47 53 33 92 53 73 64 95 90]\n",
      "Array with numbers > 25 and Even: [92 64 90]\n"
     ]
    }
   ],
   "source": [
    "# Array with numbers > 25 and even\n",
    "array = np.random.randint(10, 100, 10)\n",
    "print(\"Array:\", array)\n",
    "\n",
    "condition_array = array[(array > 25) & (array % 2 == 0)]\n",
    "print(\"Array with numbers > 25 and Even:\", condition_array)"
   ]
  },
  {
   "cell_type": "markdown",
   "id": "be955307",
   "metadata": {},
   "source": [
    "## Adding Elements\n"
   ]
  },
  {
   "cell_type": "markdown",
   "id": "ac8a031f",
   "metadata": {},
   "source": [
    "### Appending\n",
    "\n",
    "- Returns new array with appended elements\n",
    "- New array shape changes to 1D if no axis is given\n"
   ]
  },
  {
   "cell_type": "code",
   "execution_count": 8,
   "id": "211bd9ff",
   "metadata": {},
   "outputs": [
    {
     "name": "stdout",
     "output_type": "stream",
     "text": [
      "Before Array: [0 1 2 3 4]\n",
      "Array with appending 5: [0 1 2 3 4 5]\n",
      "After Array: [0 1 2 3 4]\n"
     ]
    }
   ],
   "source": [
    "# 1D array append\n",
    "array = np.arange(5)\n",
    "print(\"Before Array:\", array)\n",
    "print(\"Array with appending 5:\", np.append(array, 5))\n",
    "print(\"After Array:\", array)"
   ]
  },
  {
   "cell_type": "code",
   "execution_count": 9,
   "id": "cfd0e615",
   "metadata": {},
   "outputs": [
    {
     "name": "stdout",
     "output_type": "stream",
     "text": [
      "Array 1:\n",
      " [[0 1 2]\n",
      " [3 4 5]]\n",
      "Array 2:\n",
      " [[ 6  7  8]\n",
      " [ 9 10 11]]\n",
      "\n",
      "Appending scalar 5 to Array 1 (flattened):\n",
      " [0 1 2 3 4 5 5]\n",
      "\n",
      "Appending Array 2 to Array 1 (flattened):\n",
      " [ 0  1  2  3  4  5  6  7  8  9 10 11]\n",
      "\n",
      "Appending Array 2 to Array 1 along rows (axis=0):\n",
      " [[ 0  1  2]\n",
      " [ 3  4  5]\n",
      " [ 6  7  8]\n",
      " [ 9 10 11]]\n",
      "\n",
      "Appending Array 2 to Array 1 along columns (axis=1):\n",
      " [[ 0  1  2  6  7  8]\n",
      " [ 3  4  5  9 10 11]]\n"
     ]
    }
   ],
   "source": [
    "# 2D array append\n",
    "a = np.arange(6).reshape(2, 3)\n",
    "b = np.arange(6, 12).reshape(2, 3)\n",
    "\n",
    "print(\"Array 1:\\n\", a)\n",
    "print(\"Array 2:\\n\", b)\n",
    "\n",
    "# Append scalar\n",
    "print(\"\\nAppending scalar 5 to Array 1 (flattened):\\n\", np.append(a, 5))\n",
    "\n",
    "# Append Array 2 to Array 1 (flattened)\n",
    "print(\"\\nAppending Array 2 to Array 1 (flattened):\\n\", np.append(a, b))\n",
    "\n",
    "# Append along rows (axis=0)\n",
    "print(\"\\nAppending Array 2 to Array 1 along rows (axis=0):\\n\", np.append(a, b, axis=0))\n",
    "\n",
    "# Append along columns (axis=1)\n",
    "print(\n",
    "    \"\\nAppending Array 2 to Array 1 along columns (axis=1):\\n\", np.append(a, b, axis=1)\n",
    ")"
   ]
  },
  {
   "cell_type": "markdown",
   "id": "ebc27f62",
   "metadata": {},
   "source": [
    "### Concatenation\n",
    "\n",
    "- Returns new array with Concatenated elements\n",
    "- Requires arrays to be in same size\n"
   ]
  },
  {
   "cell_type": "code",
   "execution_count": 10,
   "id": "3c483242",
   "metadata": {},
   "outputs": [
    {
     "name": "stdout",
     "output_type": "stream",
     "text": [
      "Array 1: [0 1 2 3 4 5]\n",
      "Array 2: [ 6  7  8  9 10]\n",
      "Combined Array: [ 0  1  2  3  4  5  6  7  8  9 10]\n"
     ]
    }
   ],
   "source": [
    "array1 = np.arange(0, 6)\n",
    "array2 = np.arange(6, 11)\n",
    "\n",
    "combined = np.concatenate((array1, array2))\n",
    "\n",
    "print(\"Array 1:\", array1)\n",
    "print(\"Array 2:\", array2)\n",
    "print(\"Combined Array:\", combined)"
   ]
  },
  {
   "cell_type": "code",
   "execution_count": 11,
   "id": "294f251f",
   "metadata": {},
   "outputs": [
    {
     "name": "stdout",
     "output_type": "stream",
     "text": [
      "Array 1:\n",
      " [[0 1]\n",
      " [2 3]]\n",
      "Array 2:\n",
      " [[4 5]\n",
      " [6 7]]\n",
      "\n",
      "Concatenated along Row:\n",
      " [[0 1]\n",
      " [2 3]\n",
      " [4 5]\n",
      " [6 7]]\n",
      "\n",
      "Concatenated along Column:\n",
      " [[0 1 4 5]\n",
      " [2 3 6 7]]\n"
     ]
    }
   ],
   "source": [
    "a = np.arange(4).reshape(2, 2)\n",
    "b = np.arange(4, 8).reshape(2, 2)\n",
    "\n",
    "print(\"Array 1:\\n\", a)\n",
    "print(\"Array 2:\\n\", b)\n",
    "print(\"\\nConcatenated along Row:\\n\", np.concatenate((a, b), axis=0))\n",
    "print(\"\\nConcatenated along Column:\\n\", np.concatenate((a, b), axis=1))"
   ]
  },
  {
   "cell_type": "markdown",
   "id": "3398c0fc",
   "metadata": {},
   "source": [
    "## Replacing Elements\n",
    "\n",
    "- Affects original array\n",
    "- Does not return array\n"
   ]
  },
  {
   "cell_type": "code",
   "execution_count": 12,
   "id": "d8f01787",
   "metadata": {},
   "outputs": [
    {
     "name": "stdout",
     "output_type": "stream",
     "text": [
      "Before: [10 20 30 40 50]\n",
      "After: [10 25 30 55 50]\n"
     ]
    }
   ],
   "source": [
    "array = np.array([10, 20, 30, 40, 50])\n",
    "print(\"Before:\", array)\n",
    "\n",
    "np.put(array, [1, 3], [25, 55])\n",
    "print(\"After:\", array)"
   ]
  },
  {
   "cell_type": "markdown",
   "id": "1c8ef3d7",
   "metadata": {},
   "source": [
    "## Deleting Elements\n",
    "\n",
    "- Does not delete elements from original array\n",
    "- Returns new array after deleting elements\n"
   ]
  },
  {
   "cell_type": "code",
   "execution_count": 13,
   "id": "eb58d155",
   "metadata": {},
   "outputs": [
    {
     "name": "stdout",
     "output_type": "stream",
     "text": [
      "Before Deleting: [0 1 2 3 4 5]\n",
      "Deleting single element: [0 1 2 4 5]\n",
      "Deleting multiple elements: [0 2 5]\n",
      "After Deleting: [0 1 2 3 4 5]\n"
     ]
    }
   ],
   "source": [
    "array = np.arange(6)\n",
    "delete_single = np.delete(array, 3)\n",
    "delete_multiple = np.delete(array, (1, 3, 4))\n",
    "print(\"Before Deleting:\", array)\n",
    "print(\"Deleting single element:\", delete_single)\n",
    "print(\"Deleting multiple elements:\", delete_multiple)\n",
    "print(\"After Deleting:\", array)"
   ]
  },
  {
   "cell_type": "markdown",
   "id": "29987752",
   "metadata": {},
   "source": [
    "## Stacking\n",
    "\n",
    "$$\n",
    "\\begin{array}{ccc}\n",
    "\\begin{bmatrix}\n",
    "1 & 2 \\\\\n",
    "3 & 4\n",
    "\\end{bmatrix}\n",
    "&\n",
    "+\n",
    "&\n",
    "\\begin{bmatrix}\n",
    "\\textcolor{yellow}{5} & \\textcolor{yellow}{6}\n",
    "\\end{bmatrix}\n",
    "\\\\[1em]\n",
    "\\text{Original} & & \\text{New Row}\n",
    "\\end{array}\n",
    "\\quad\n",
    "\\xrightarrow{\\text{Vertical Stack}}\n",
    "\\quad\n",
    "\\begin{array}{c}\n",
    "\\begin{bmatrix}\n",
    "1 & 2 \\\\\n",
    "3 & 4 \\\\\n",
    "\\textcolor{yellow}{5} & \\textcolor{yellow}{6}\n",
    "\\end{bmatrix} \\\\[1.5em]\n",
    "\\text{New Matrix}\n",
    "\\end{array}\n",
    "\n",
    "\\\\[3em]\n",
    "\n",
    "\\begin{array}{ccc}\n",
    "\\begin{bmatrix}\n",
    "1 & 2 \\\\\n",
    "3 & 4\n",
    "\\end{bmatrix}\n",
    "&\n",
    "+\n",
    "&\n",
    "\\begin{bmatrix}\n",
    "\\textcolor{cyan}{7} \\\\\n",
    "\\textcolor{cyan}{8}\n",
    "\\end{bmatrix}\n",
    "\\\\[1em]\n",
    "\\text{Original} & & \\text{New Column}\n",
    "\\end{array}\n",
    "\\quad\n",
    "\\xrightarrow{\\text{Horizontal Stack}}\n",
    "\\quad\n",
    "\\begin{array}{c}\n",
    "\\begin{bmatrix}\n",
    "1 & 2 & \\textcolor{cyan}{7} \\\\\n",
    "3 & 4 & \\textcolor{cyan}{8}\n",
    "\\end{bmatrix} \\\\[1.5em]\n",
    "\\text{New Matrix}\n",
    "\\end{array}\n",
    "$$\n"
   ]
  },
  {
   "cell_type": "code",
   "execution_count": 14,
   "id": "686ceebb",
   "metadata": {},
   "outputs": [
    {
     "name": "stdout",
     "output_type": "stream",
     "text": [
      "Original:\n",
      " [[1 2]\n",
      " [3 4]]\n",
      "\n",
      "New Row:\n",
      " [[5 6]]\n",
      "Matrix with new Row:\n",
      " [[1 2]\n",
      " [3 4]\n",
      " [5 6]]\n",
      "\n",
      "New Column:\n",
      " [[7]\n",
      " [8]]\n",
      "\n",
      "Matrix with new Column:\n",
      " [[1 2 7]\n",
      " [3 4 8]]\n"
     ]
    }
   ],
   "source": [
    "# fmt:off\n",
    "original = np.array(\n",
    "  [\n",
    "    [1,2],\n",
    "    [3,4]\n",
    "  ]\n",
    ")\n",
    "\n",
    "new_row = np.array(\n",
    "  [\n",
    "    [5,6]\n",
    "  ]\n",
    ")\n",
    "\n",
    "new_column = np.array(\n",
    "  [\n",
    "    [7],\n",
    "    [8]\n",
    "  ]\n",
    ")\n",
    "\n",
    "new_row_matrix = np.vstack((original, new_row))\n",
    "new_column_matrix = np.hstack((original, new_column))\n",
    "\n",
    "print(\"Original:\\n\", original)\n",
    "\n",
    "print(\"\\nNew Row:\\n\", new_row)\n",
    "print(\"Matrix with new Row:\\n\", new_row_matrix)\n",
    "\n",
    "print(\"\\nNew Column:\\n\", new_column)\n",
    "print(\"\\nMatrix with new Column:\\n\", new_column_matrix)"
   ]
  },
  {
   "cell_type": "markdown",
   "id": "b7939d98",
   "metadata": {},
   "source": [
    "## Splitting\n",
    "\n",
    "$$\n",
    "\\quad\n",
    "\\begin{bmatrix}\n",
    "\\textcolor{orange}{1} & \\textcolor{orange}{2} & \\textcolor{lime}{3} & \\textcolor{lime}{4} \\\\\n",
    "\\textcolor{orange}{5} & \\textcolor{orange}{6} & \\textcolor{lime}{7} & \\textcolor{lime}{8} \\\\\n",
    "\\textcolor{orange}{9} & \\textcolor{orange}{10} & \\textcolor{lime}{11} & \\textcolor{lime}{12} \\\\\n",
    "\\textcolor{orange}{13} & \\textcolor{orange}{14} & \\textcolor{lime}{15} & \\textcolor{lime}{16}\n",
    "\\end{bmatrix}\n",
    "\\quad \\xrightarrow{\\text{Vertically Split into 2}} \\quad\n",
    "\\begin{bmatrix}\n",
    "\\textcolor{orange}{1} & \\textcolor{orange}{2} \\\\\n",
    "\\textcolor{orange}{5} & \\textcolor{orange}{6} \\\\\n",
    "\\textcolor{orange}{9} & \\textcolor{orange}{10} \\\\\n",
    "\\textcolor{orange}{13} & \\textcolor{orange}{14}\n",
    "\\end{bmatrix},\n",
    "\\quad\n",
    "\\begin{bmatrix}\n",
    "\\textcolor{lime}{3} & \\textcolor{lime}{4} \\\\\n",
    "\\textcolor{lime}{7} & \\textcolor{lime}{8} \\\\\n",
    "\\textcolor{lime}{11} & \\textcolor{lime}{12} \\\\\n",
    "\\textcolor{lime}{15} & \\textcolor{lime}{16}\n",
    "\\end{bmatrix}\n",
    "\n",
    "\\\\[2ex]\n",
    "\n",
    "\\begin{bmatrix}\n",
    "\\textcolor{violet}{1} & \\textcolor{violet}{2} & \\textcolor{violet}{3} & \\textcolor{violet}{4} \\\\\n",
    "\\textcolor{violet}{5} & \\textcolor{violet}{6} & \\textcolor{violet}{7} & \\textcolor{violet}{8} \\\\\n",
    "\\textcolor{cyan}{9} & \\textcolor{cyan}{10} & \\textcolor{cyan}{11} & \\textcolor{cyan}{12} \\\\\n",
    "\\textcolor{cyan}{13} & \\textcolor{cyan}{14} & \\textcolor{cyan}{15} & \\textcolor{cyan}{16}\n",
    "\\end{bmatrix}\n",
    "\\quad \\xrightarrow{\\text{Horizontally Split into 2}} \\quad\n",
    "\\begin{bmatrix}\n",
    "\\textcolor{violet}{1} & \\textcolor{violet}{2} & \\textcolor{violet}{3} & \\textcolor{violet}{4} \\\\\n",
    "\\textcolor{violet}{5} & \\textcolor{violet}{6} & \\textcolor{violet}{7} & \\textcolor{violet}{8}\n",
    "\\end{bmatrix},\n",
    "\\quad\n",
    "\\begin{bmatrix}\n",
    "\\textcolor{cyan}{9} & \\textcolor{cyan}{10} & \\textcolor{cyan}{11} & \\textcolor{cyan}{12} \\\\\n",
    "\\textcolor{cyan}{13} & \\textcolor{cyan}{14} & \\textcolor{cyan}{15} & \\textcolor{cyan}{16}\n",
    "\\end{bmatrix}\n",
    "$$\n"
   ]
  },
  {
   "cell_type": "markdown",
   "id": "434baba9",
   "metadata": {},
   "source": [
    "### Vertically and Horizontally splitting\n"
   ]
  },
  {
   "cell_type": "code",
   "execution_count": 15,
   "id": "383f4af1",
   "metadata": {},
   "outputs": [
    {
     "name": "stdout",
     "output_type": "stream",
     "text": [
      "Vertical Split 0:\n",
      "[[ 1  2]\n",
      " [ 5  6]\n",
      " [ 9 10]\n",
      " [13 14]]\n",
      "\n",
      "Vertical Split 1:\n",
      "[[ 3  4]\n",
      " [ 7  8]\n",
      " [11 12]\n",
      " [15 16]]\n",
      "\n",
      "Horizontal Split 0:\n",
      "[[1 2 3 4]\n",
      " [5 6 7 8]]\n",
      "\n",
      "Horizontal Split 1:\n",
      "[[ 9 10 11 12]\n",
      " [13 14 15 16]]\n",
      "\n"
     ]
    }
   ],
   "source": [
    "# fmt:off\n",
    "original = np.arange(1, 17).reshape((4, 4))\n",
    "\n",
    "# Vertically split - np.hsplit() (column-wise blocks)\n",
    "columns = np.hsplit(original, 2)\n",
    "for index, column in enumerate(columns):\n",
    "    print(f\"Vertical Split {index}:\\n{column}\\n\")\n",
    "\n",
    "# Horizontally split - np.vsplit()  (row-wise blocks)\n",
    "rows = np.vsplit(original, 2)\n",
    "for index, row in enumerate(rows):\n",
    "    print(f\"Horizontal Split {index}:\\n{row}\\n\")"
   ]
  },
  {
   "cell_type": "markdown",
   "id": "19b03891",
   "metadata": {},
   "source": [
    "### 1D Array splitting\n"
   ]
  },
  {
   "cell_type": "code",
   "execution_count": 16,
   "id": "5d21f6ac",
   "metadata": {},
   "outputs": [
    {
     "name": "stdout",
     "output_type": "stream",
     "text": [
      "Array: [0 1 2 3 4 5 6 7 8]\n",
      "Evenly Splitted Array into 3:\n",
      "[0 1 2]\n",
      "[3 4 5]\n",
      "[6 7 8]\n",
      "\n",
      "Splitted Array at 2:\n",
      "[0 1]\n",
      "[2 3 4 5 6 7 8]\n",
      "\n",
      "Splitted Array at 1, 3 and 7:\n",
      "[0]\n",
      "[1 2]\n",
      "[3 4 5 6]\n",
      "[7 8]\n"
     ]
    }
   ],
   "source": [
    "array = np.arange(9)\n",
    "\n",
    "# Split array evenly into 3 equal parts (must divide exactly)\n",
    "splitted = np.split(array, 3)\n",
    "print(\"Array:\", array)\n",
    "print(\"Evenly Splitted Array into 3:\")\n",
    "for i in splitted:\n",
    "    print(i)\n",
    "\n",
    "# Split array at index 2\n",
    "splitted2 = np.split(array, [2])\n",
    "print(\"\\nSplitted Array at 2:\")\n",
    "for i in splitted2:\n",
    "    print(i)\n",
    "\n",
    "# Split array at multiple indices: 1, 3, and 7\n",
    "splitted3 = np.split(array, [1, 3, 7])\n",
    "print(\"\\nSplitted Array at 1, 3 and 7:\")\n",
    "for i in splitted3:\n",
    "    print(i)"
   ]
  },
  {
   "cell_type": "code",
   "execution_count": 17,
   "id": "5a03cc93",
   "metadata": {},
   "outputs": [
    {
     "name": "stdout",
     "output_type": "stream",
     "text": [
      "Array: [0 1 2 3 4 5 6 7 8]\n",
      "\n",
      "Split into 3 (possibly uneven) parts:\n",
      "Part 1: [0 1 2]\n",
      "Part 2: [3 4 5]\n",
      "Part 3: [6 7 8]\n"
     ]
    }
   ],
   "source": [
    "# Split the array into 3 parts (can be uneven)\n",
    "# np.array_split allows unequal splits if the array size is not divisible\n",
    "splitted = np.array_split(array, 3)\n",
    "\n",
    "print(\"Array:\", array)\n",
    "print(\"\\nSplit into 3 (possibly uneven) parts:\")\n",
    "for i, part in enumerate(splitted, 1):\n",
    "    print(f\"Part {i}:\", part)"
   ]
  },
  {
   "cell_type": "markdown",
   "id": "77465c3e",
   "metadata": {},
   "source": [
    "## Sorting\n"
   ]
  },
  {
   "cell_type": "code",
   "execution_count": 18,
   "id": "f8bc56b8",
   "metadata": {},
   "outputs": [
    {
     "name": "stdout",
     "output_type": "stream",
     "text": [
      "Unsorted Array: [99 39 54 15 18 16 63 42 23 40]\n",
      "Sorted Array: [15 16 18 23 39 40 42 54 63 99]\n",
      "Reverse Sorted Array: [99 63 54 42 40 39 23 18 16 15]\n"
     ]
    }
   ],
   "source": [
    "unsorted = np.random.randint(1, 100, 10)\n",
    "print(\"Unsorted Array:\", unsorted)\n",
    "print(\"Sorted Array:\", np.sort(unsorted))\n",
    "print(\"Reverse Sorted Array:\", np.sort(unsorted)[::-1])"
   ]
  },
  {
   "cell_type": "code",
   "execution_count": 19,
   "id": "e7b818e7",
   "metadata": {},
   "outputs": [
    {
     "name": "stdout",
     "output_type": "stream",
     "text": [
      "Unsorted Matrix:\n",
      " [[1 9]\n",
      " [9 5]\n",
      " [6 1]]\n",
      "Sort Matrix by Column:\n",
      " [[1 1]\n",
      " [6 5]\n",
      " [9 9]]\n",
      "Sort Matrix by Row:\n",
      " [[1 9]\n",
      " [5 9]\n",
      " [1 6]]\n"
     ]
    }
   ],
   "source": [
    "# fmt:off\n",
    "unsorted2D = np.random.randint(1,10,6).reshape(3,2)\n",
    "print(\"Unsorted Matrix:\\n\", unsorted2D)\n",
    "print(\"Sort Matrix by Column:\\n\", np.sort(unsorted2D, axis=0))\n",
    "print(\"Sort Matrix by Row:\\n\", np.sort(unsorted2D, axis=1))"
   ]
  },
  {
   "cell_type": "markdown",
   "id": "7588ece9",
   "metadata": {},
   "source": [
    "## Filtering\n"
   ]
  },
  {
   "cell_type": "code",
   "execution_count": 20,
   "id": "a7248790",
   "metadata": {},
   "outputs": [
    {
     "name": "stdout",
     "output_type": "stream",
     "text": [
      "Even Numbers: [ 2  4  6  8 10]\n"
     ]
    }
   ],
   "source": [
    "numbers = np.arange(1, 11)\n",
    "even_numbers = numbers[numbers % 2 == 0]\n",
    "print(\"Even Numbers:\", even_numbers)"
   ]
  },
  {
   "cell_type": "markdown",
   "id": "fda72103",
   "metadata": {},
   "source": [
    "### Where - returns indices of array which satisfy condition:\n"
   ]
  },
  {
   "cell_type": "code",
   "execution_count": 21,
   "id": "df4927db",
   "metadata": {},
   "outputs": [
    {
     "name": "stdout",
     "output_type": "stream",
     "text": [
      "Numbers: [0 1 2 3 4 5 6 7 8 9]\n",
      "Where result (numbers > 5): (array([6, 7, 8, 9]),)\n",
      "Greater than 5: [6 7 8 9]\n",
      "Condition Array: [ 0  2  4  6  8 10 60 70 80 90]\n"
     ]
    }
   ],
   "source": [
    "numbers = np.arange(10)\n",
    "print(\"Numbers:\", numbers)\n",
    "\n",
    "where_result = np.where(numbers > 5)  # <condition>\n",
    "print(\"Where result (numbers > 5):\", where_result)\n",
    "print(\"Greater than 5:\", numbers[where_result])\n",
    "\n",
    "condition_array = np.where(\n",
    "    numbers > 5, numbers * 10, numbers * 2\n",
    ")  # <condition, True operation, False operation>\n",
    "\n",
    "print(\"Condition Array:\", condition_array)\n",
    "\n",
    "# np.where() is similar to\n",
    "# for index, value in enumerate(numbers):\n",
    "#     if value > 5: (condition)\n",
    "#         numbers[index] = value*10 (True operation)\n",
    "#     else:\n",
    "#         numbers[index] = value*2 (False operation)"
   ]
  },
  {
   "cell_type": "markdown",
   "id": "d9c606b0",
   "metadata": {},
   "source": [
    "## Missing values\n"
   ]
  },
  {
   "cell_type": "code",
   "execution_count": 22,
   "id": "77dea53f",
   "metadata": {},
   "outputs": [
    {
     "name": "stdout",
     "output_type": "stream",
     "text": [
      "Array with missing values: [ 1.  2.  3. nan  5.  6.  7. nan  9. 10.]\n",
      "Missing Values: [False False False  True False False False  True False False]\n",
      "Array without missing values: [ 1.  2.  3.  5.  6.  7.  9. 10.]\n"
     ]
    }
   ],
   "source": [
    "a = np.array([1, 2, 3, np.nan, 5, 6, 7, np.nan, 9, 10])\n",
    "print(\"Array with missing values:\", a)\n",
    "print(\"Missing Values:\", np.isnan(a))\n",
    "print(\"Array without missing values:\", a[~np.isnan(a)])  # ~ is for inverting (negation)"
   ]
  },
  {
   "cell_type": "markdown",
   "id": "d4e61f3c",
   "metadata": {},
   "source": [
    "## Iterating\n"
   ]
  },
  {
   "cell_type": "code",
   "execution_count": 23,
   "id": "cff5fd3e",
   "metadata": {},
   "outputs": [
    {
     "name": "stdout",
     "output_type": "stream",
     "text": [
      "0\n",
      "1\n",
      "2\n",
      "3\n",
      "4\n",
      "5\n",
      "6\n",
      "7\n",
      "8\n"
     ]
    }
   ],
   "source": [
    "# 1D Array - iterates each element\n",
    "for item in array:\n",
    "    print(item)"
   ]
  },
  {
   "cell_type": "code",
   "execution_count": 24,
   "id": "381ef5ab",
   "metadata": {},
   "outputs": [
    {
     "name": "stdout",
     "output_type": "stream",
     "text": [
      "[1 2 3]\n",
      "[4 5 6]\n",
      "[7 8 9]\n"
     ]
    }
   ],
   "source": [
    "# 2D Array - iterates each row\n",
    "for row in array2D:\n",
    "    print(row)"
   ]
  },
  {
   "cell_type": "code",
   "execution_count": 25,
   "id": "c7efca72",
   "metadata": {},
   "outputs": [
    {
     "name": "stdout",
     "output_type": "stream",
     "text": [
      "[[1 2 3]\n",
      " [4 5 6]\n",
      " [7 8 9]]\n",
      "[[10 11 12]\n",
      " [13 14 15]\n",
      " [16 17 18]]\n",
      "[[19 20 21]\n",
      " [22 23 24]\n",
      " [25 26 27]]\n"
     ]
    }
   ],
   "source": [
    "# 3D Array - iterates each matrix (2D array)\n",
    "for matrix in array3D:\n",
    "    print(matrix)"
   ]
  },
  {
   "cell_type": "code",
   "execution_count": 26,
   "id": "ab86c309",
   "metadata": {},
   "outputs": [
    {
     "name": "stdout",
     "output_type": "stream",
     "text": [
      "1 2 3 4 5 6 7 8 9 10 11 12 13 14 15 16 "
     ]
    }
   ],
   "source": [
    "# Iterating each element in n-dimensional array\n",
    "tensor = np.arange(1, 17).reshape((2, 2, 2, 2))\n",
    "for i in np.nditer(tensor):\n",
    "    print(i, end=\" \")"
   ]
  }
 ],
 "metadata": {
  "kernelspec": {
   "display_name": "01 Numpy",
   "language": "python",
   "name": "python3"
  },
  "language_info": {
   "codemirror_mode": {
    "name": "ipython",
    "version": 3
   },
   "file_extension": ".py",
   "mimetype": "text/x-python",
   "name": "python",
   "nbconvert_exporter": "python",
   "pygments_lexer": "ipython3",
   "version": "3.13.5"
  }
 },
 "nbformat": 4,
 "nbformat_minor": 5
}
